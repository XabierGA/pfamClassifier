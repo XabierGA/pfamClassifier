{
  "metadata": {
    "kernelspec": {
      "language": "python",
      "display_name": "Python 3",
      "name": "python3"
    },
    "language_info": {
      "name": "python",
      "version": "3.7.12",
      "mimetype": "text/x-python",
      "codemirror_mode": {
        "name": "ipython",
        "version": 3
      },
      "pygments_lexer": "ipython3",
      "nbconvert_exporter": "python",
      "file_extension": ".py"
    },
    "colab": {
      "name": "pfamClass.ipynb",
      "provenance": [],
      "collapsed_sections": [
        "6wLKiWHqZa0m",
        "5xGJ9OwcoQqT"
      ]
    },
    "accelerator": "GPU",
    "widgets": {
      "application/vnd.jupyter.widget-state+json": {
        "9665ca77c3194922a026ff34229969cf": {
          "model_module": "@jupyter-widgets/controls",
          "model_name": "HBoxModel",
          "model_module_version": "1.5.0",
          "state": {
            "_view_name": "HBoxView",
            "_dom_classes": [],
            "_model_name": "HBoxModel",
            "_view_module": "@jupyter-widgets/controls",
            "_model_module_version": "1.5.0",
            "_view_count": null,
            "_view_module_version": "1.5.0",
            "box_style": "",
            "layout": "IPY_MODEL_12c55eb9cd7043779fa73b3ca4c59853",
            "_model_module": "@jupyter-widgets/controls",
            "children": [
              "IPY_MODEL_27dda3640926454ebbaf6b4c75fd527e",
              "IPY_MODEL_57e9f76e59ea4a728a8c3cd5698131b7",
              "IPY_MODEL_7d26c5f48d3d405ca85b85ac9b4c51b4"
            ]
          }
        },
        "12c55eb9cd7043779fa73b3ca4c59853": {
          "model_module": "@jupyter-widgets/base",
          "model_name": "LayoutModel",
          "model_module_version": "1.2.0",
          "state": {
            "_view_name": "LayoutView",
            "grid_template_rows": null,
            "right": null,
            "justify_content": null,
            "_view_module": "@jupyter-widgets/base",
            "overflow": null,
            "_model_module_version": "1.2.0",
            "_view_count": null,
            "flex_flow": null,
            "width": null,
            "min_width": null,
            "border": null,
            "align_items": null,
            "bottom": null,
            "_model_module": "@jupyter-widgets/base",
            "top": null,
            "grid_column": null,
            "overflow_y": null,
            "overflow_x": null,
            "grid_auto_flow": null,
            "grid_area": null,
            "grid_template_columns": null,
            "flex": null,
            "_model_name": "LayoutModel",
            "justify_items": null,
            "grid_row": null,
            "max_height": null,
            "align_content": null,
            "visibility": null,
            "align_self": null,
            "height": null,
            "min_height": null,
            "padding": null,
            "grid_auto_rows": null,
            "grid_gap": null,
            "max_width": null,
            "order": null,
            "_view_module_version": "1.2.0",
            "grid_template_areas": null,
            "object_position": null,
            "object_fit": null,
            "grid_auto_columns": null,
            "margin": null,
            "display": null,
            "left": null
          }
        },
        "27dda3640926454ebbaf6b4c75fd527e": {
          "model_module": "@jupyter-widgets/controls",
          "model_name": "HTMLModel",
          "model_module_version": "1.5.0",
          "state": {
            "_view_name": "HTMLView",
            "style": "IPY_MODEL_929374a66d794f0facc166d5fda58a4b",
            "_dom_classes": [],
            "description": "",
            "_model_name": "HTMLModel",
            "placeholder": "​",
            "_view_module": "@jupyter-widgets/controls",
            "_model_module_version": "1.5.0",
            "value": "Downloading: 100%",
            "_view_count": null,
            "_view_module_version": "1.5.0",
            "description_tooltip": null,
            "_model_module": "@jupyter-widgets/controls",
            "layout": "IPY_MODEL_e108e4b0f8804ada96e8b837cf8f6989"
          }
        },
        "57e9f76e59ea4a728a8c3cd5698131b7": {
          "model_module": "@jupyter-widgets/controls",
          "model_name": "FloatProgressModel",
          "model_module_version": "1.5.0",
          "state": {
            "_view_name": "ProgressView",
            "style": "IPY_MODEL_731c3767a9e74856a4b8110955ff7878",
            "_dom_classes": [],
            "description": "",
            "_model_name": "FloatProgressModel",
            "bar_style": "success",
            "max": 86,
            "_view_module": "@jupyter-widgets/controls",
            "_model_module_version": "1.5.0",
            "value": 86,
            "_view_count": null,
            "_view_module_version": "1.5.0",
            "orientation": "horizontal",
            "min": 0,
            "description_tooltip": null,
            "_model_module": "@jupyter-widgets/controls",
            "layout": "IPY_MODEL_28c7d1af50484bb4bdf9e32435666a70"
          }
        },
        "7d26c5f48d3d405ca85b85ac9b4c51b4": {
          "model_module": "@jupyter-widgets/controls",
          "model_name": "HTMLModel",
          "model_module_version": "1.5.0",
          "state": {
            "_view_name": "HTMLView",
            "style": "IPY_MODEL_2174ad9564084f6487265c80ef463e5b",
            "_dom_classes": [],
            "description": "",
            "_model_name": "HTMLModel",
            "placeholder": "​",
            "_view_module": "@jupyter-widgets/controls",
            "_model_module_version": "1.5.0",
            "value": " 86.0/86.0 [00:00&lt;00:00, 2.09kB/s]",
            "_view_count": null,
            "_view_module_version": "1.5.0",
            "description_tooltip": null,
            "_model_module": "@jupyter-widgets/controls",
            "layout": "IPY_MODEL_7a626a9c9fa04b96b62b550cb008119d"
          }
        },
        "929374a66d794f0facc166d5fda58a4b": {
          "model_module": "@jupyter-widgets/controls",
          "model_name": "DescriptionStyleModel",
          "model_module_version": "1.5.0",
          "state": {
            "_view_name": "StyleView",
            "_model_name": "DescriptionStyleModel",
            "description_width": "",
            "_view_module": "@jupyter-widgets/base",
            "_model_module_version": "1.5.0",
            "_view_count": null,
            "_view_module_version": "1.2.0",
            "_model_module": "@jupyter-widgets/controls"
          }
        },
        "e108e4b0f8804ada96e8b837cf8f6989": {
          "model_module": "@jupyter-widgets/base",
          "model_name": "LayoutModel",
          "model_module_version": "1.2.0",
          "state": {
            "_view_name": "LayoutView",
            "grid_template_rows": null,
            "right": null,
            "justify_content": null,
            "_view_module": "@jupyter-widgets/base",
            "overflow": null,
            "_model_module_version": "1.2.0",
            "_view_count": null,
            "flex_flow": null,
            "width": null,
            "min_width": null,
            "border": null,
            "align_items": null,
            "bottom": null,
            "_model_module": "@jupyter-widgets/base",
            "top": null,
            "grid_column": null,
            "overflow_y": null,
            "overflow_x": null,
            "grid_auto_flow": null,
            "grid_area": null,
            "grid_template_columns": null,
            "flex": null,
            "_model_name": "LayoutModel",
            "justify_items": null,
            "grid_row": null,
            "max_height": null,
            "align_content": null,
            "visibility": null,
            "align_self": null,
            "height": null,
            "min_height": null,
            "padding": null,
            "grid_auto_rows": null,
            "grid_gap": null,
            "max_width": null,
            "order": null,
            "_view_module_version": "1.2.0",
            "grid_template_areas": null,
            "object_position": null,
            "object_fit": null,
            "grid_auto_columns": null,
            "margin": null,
            "display": null,
            "left": null
          }
        },
        "731c3767a9e74856a4b8110955ff7878": {
          "model_module": "@jupyter-widgets/controls",
          "model_name": "ProgressStyleModel",
          "model_module_version": "1.5.0",
          "state": {
            "_view_name": "StyleView",
            "_model_name": "ProgressStyleModel",
            "description_width": "",
            "_view_module": "@jupyter-widgets/base",
            "_model_module_version": "1.5.0",
            "_view_count": null,
            "_view_module_version": "1.2.0",
            "bar_color": null,
            "_model_module": "@jupyter-widgets/controls"
          }
        },
        "28c7d1af50484bb4bdf9e32435666a70": {
          "model_module": "@jupyter-widgets/base",
          "model_name": "LayoutModel",
          "model_module_version": "1.2.0",
          "state": {
            "_view_name": "LayoutView",
            "grid_template_rows": null,
            "right": null,
            "justify_content": null,
            "_view_module": "@jupyter-widgets/base",
            "overflow": null,
            "_model_module_version": "1.2.0",
            "_view_count": null,
            "flex_flow": null,
            "width": null,
            "min_width": null,
            "border": null,
            "align_items": null,
            "bottom": null,
            "_model_module": "@jupyter-widgets/base",
            "top": null,
            "grid_column": null,
            "overflow_y": null,
            "overflow_x": null,
            "grid_auto_flow": null,
            "grid_area": null,
            "grid_template_columns": null,
            "flex": null,
            "_model_name": "LayoutModel",
            "justify_items": null,
            "grid_row": null,
            "max_height": null,
            "align_content": null,
            "visibility": null,
            "align_self": null,
            "height": null,
            "min_height": null,
            "padding": null,
            "grid_auto_rows": null,
            "grid_gap": null,
            "max_width": null,
            "order": null,
            "_view_module_version": "1.2.0",
            "grid_template_areas": null,
            "object_position": null,
            "object_fit": null,
            "grid_auto_columns": null,
            "margin": null,
            "display": null,
            "left": null
          }
        },
        "2174ad9564084f6487265c80ef463e5b": {
          "model_module": "@jupyter-widgets/controls",
          "model_name": "DescriptionStyleModel",
          "model_module_version": "1.5.0",
          "state": {
            "_view_name": "StyleView",
            "_model_name": "DescriptionStyleModel",
            "description_width": "",
            "_view_module": "@jupyter-widgets/base",
            "_model_module_version": "1.5.0",
            "_view_count": null,
            "_view_module_version": "1.2.0",
            "_model_module": "@jupyter-widgets/controls"
          }
        },
        "7a626a9c9fa04b96b62b550cb008119d": {
          "model_module": "@jupyter-widgets/base",
          "model_name": "LayoutModel",
          "model_module_version": "1.2.0",
          "state": {
            "_view_name": "LayoutView",
            "grid_template_rows": null,
            "right": null,
            "justify_content": null,
            "_view_module": "@jupyter-widgets/base",
            "overflow": null,
            "_model_module_version": "1.2.0",
            "_view_count": null,
            "flex_flow": null,
            "width": null,
            "min_width": null,
            "border": null,
            "align_items": null,
            "bottom": null,
            "_model_module": "@jupyter-widgets/base",
            "top": null,
            "grid_column": null,
            "overflow_y": null,
            "overflow_x": null,
            "grid_auto_flow": null,
            "grid_area": null,
            "grid_template_columns": null,
            "flex": null,
            "_model_name": "LayoutModel",
            "justify_items": null,
            "grid_row": null,
            "max_height": null,
            "align_content": null,
            "visibility": null,
            "align_self": null,
            "height": null,
            "min_height": null,
            "padding": null,
            "grid_auto_rows": null,
            "grid_gap": null,
            "max_width": null,
            "order": null,
            "_view_module_version": "1.2.0",
            "grid_template_areas": null,
            "object_position": null,
            "object_fit": null,
            "grid_auto_columns": null,
            "margin": null,
            "display": null,
            "left": null
          }
        },
        "f63d5d8f8efc4b2594dafb6bb46a694a": {
          "model_module": "@jupyter-widgets/controls",
          "model_name": "HBoxModel",
          "model_module_version": "1.5.0",
          "state": {
            "_view_name": "HBoxView",
            "_dom_classes": [],
            "_model_name": "HBoxModel",
            "_view_module": "@jupyter-widgets/controls",
            "_model_module_version": "1.5.0",
            "_view_count": null,
            "_view_module_version": "1.5.0",
            "box_style": "",
            "layout": "IPY_MODEL_083ab680dae645b4993b4d47e4337117",
            "_model_module": "@jupyter-widgets/controls",
            "children": [
              "IPY_MODEL_1f689d10cdaf430bb60421c6ba514769",
              "IPY_MODEL_7ed9f595c03c40b5916282928c0aa7a0",
              "IPY_MODEL_f22e7f71b3324fe8974eae6507d34a60"
            ]
          }
        },
        "083ab680dae645b4993b4d47e4337117": {
          "model_module": "@jupyter-widgets/base",
          "model_name": "LayoutModel",
          "model_module_version": "1.2.0",
          "state": {
            "_view_name": "LayoutView",
            "grid_template_rows": null,
            "right": null,
            "justify_content": null,
            "_view_module": "@jupyter-widgets/base",
            "overflow": null,
            "_model_module_version": "1.2.0",
            "_view_count": null,
            "flex_flow": null,
            "width": null,
            "min_width": null,
            "border": null,
            "align_items": null,
            "bottom": null,
            "_model_module": "@jupyter-widgets/base",
            "top": null,
            "grid_column": null,
            "overflow_y": null,
            "overflow_x": null,
            "grid_auto_flow": null,
            "grid_area": null,
            "grid_template_columns": null,
            "flex": null,
            "_model_name": "LayoutModel",
            "justify_items": null,
            "grid_row": null,
            "max_height": null,
            "align_content": null,
            "visibility": null,
            "align_self": null,
            "height": null,
            "min_height": null,
            "padding": null,
            "grid_auto_rows": null,
            "grid_gap": null,
            "max_width": null,
            "order": null,
            "_view_module_version": "1.2.0",
            "grid_template_areas": null,
            "object_position": null,
            "object_fit": null,
            "grid_auto_columns": null,
            "margin": null,
            "display": null,
            "left": null
          }
        },
        "1f689d10cdaf430bb60421c6ba514769": {
          "model_module": "@jupyter-widgets/controls",
          "model_name": "HTMLModel",
          "model_module_version": "1.5.0",
          "state": {
            "_view_name": "HTMLView",
            "style": "IPY_MODEL_5da1828804624d79b6f38e777a0e4473",
            "_dom_classes": [],
            "description": "",
            "_model_name": "HTMLModel",
            "placeholder": "​",
            "_view_module": "@jupyter-widgets/controls",
            "_model_module_version": "1.5.0",
            "value": "Downloading: 100%",
            "_view_count": null,
            "_view_module_version": "1.5.0",
            "description_tooltip": null,
            "_model_module": "@jupyter-widgets/controls",
            "layout": "IPY_MODEL_be3498de053d47fdb255f00ec3f8e23a"
          }
        },
        "7ed9f595c03c40b5916282928c0aa7a0": {
          "model_module": "@jupyter-widgets/controls",
          "model_name": "FloatProgressModel",
          "model_module_version": "1.5.0",
          "state": {
            "_view_name": "ProgressView",
            "style": "IPY_MODEL_80daef55c452484c804f46f8e818a467",
            "_dom_classes": [],
            "description": "",
            "_model_name": "FloatProgressModel",
            "bar_style": "success",
            "max": 81,
            "_view_module": "@jupyter-widgets/controls",
            "_model_module_version": "1.5.0",
            "value": 81,
            "_view_count": null,
            "_view_module_version": "1.5.0",
            "orientation": "horizontal",
            "min": 0,
            "description_tooltip": null,
            "_model_module": "@jupyter-widgets/controls",
            "layout": "IPY_MODEL_a4544f1a14c34d24875799ff253288a6"
          }
        },
        "f22e7f71b3324fe8974eae6507d34a60": {
          "model_module": "@jupyter-widgets/controls",
          "model_name": "HTMLModel",
          "model_module_version": "1.5.0",
          "state": {
            "_view_name": "HTMLView",
            "style": "IPY_MODEL_33909405108845f98e7e34a5b5a26172",
            "_dom_classes": [],
            "description": "",
            "_model_name": "HTMLModel",
            "placeholder": "​",
            "_view_module": "@jupyter-widgets/controls",
            "_model_module_version": "1.5.0",
            "value": " 81.0/81.0 [00:00&lt;00:00, 1.90kB/s]",
            "_view_count": null,
            "_view_module_version": "1.5.0",
            "description_tooltip": null,
            "_model_module": "@jupyter-widgets/controls",
            "layout": "IPY_MODEL_2f83b47c9ea640c39a443f70d72ab6a7"
          }
        },
        "5da1828804624d79b6f38e777a0e4473": {
          "model_module": "@jupyter-widgets/controls",
          "model_name": "DescriptionStyleModel",
          "model_module_version": "1.5.0",
          "state": {
            "_view_name": "StyleView",
            "_model_name": "DescriptionStyleModel",
            "description_width": "",
            "_view_module": "@jupyter-widgets/base",
            "_model_module_version": "1.5.0",
            "_view_count": null,
            "_view_module_version": "1.2.0",
            "_model_module": "@jupyter-widgets/controls"
          }
        },
        "be3498de053d47fdb255f00ec3f8e23a": {
          "model_module": "@jupyter-widgets/base",
          "model_name": "LayoutModel",
          "model_module_version": "1.2.0",
          "state": {
            "_view_name": "LayoutView",
            "grid_template_rows": null,
            "right": null,
            "justify_content": null,
            "_view_module": "@jupyter-widgets/base",
            "overflow": null,
            "_model_module_version": "1.2.0",
            "_view_count": null,
            "flex_flow": null,
            "width": null,
            "min_width": null,
            "border": null,
            "align_items": null,
            "bottom": null,
            "_model_module": "@jupyter-widgets/base",
            "top": null,
            "grid_column": null,
            "overflow_y": null,
            "overflow_x": null,
            "grid_auto_flow": null,
            "grid_area": null,
            "grid_template_columns": null,
            "flex": null,
            "_model_name": "LayoutModel",
            "justify_items": null,
            "grid_row": null,
            "max_height": null,
            "align_content": null,
            "visibility": null,
            "align_self": null,
            "height": null,
            "min_height": null,
            "padding": null,
            "grid_auto_rows": null,
            "grid_gap": null,
            "max_width": null,
            "order": null,
            "_view_module_version": "1.2.0",
            "grid_template_areas": null,
            "object_position": null,
            "object_fit": null,
            "grid_auto_columns": null,
            "margin": null,
            "display": null,
            "left": null
          }
        },
        "80daef55c452484c804f46f8e818a467": {
          "model_module": "@jupyter-widgets/controls",
          "model_name": "ProgressStyleModel",
          "model_module_version": "1.5.0",
          "state": {
            "_view_name": "StyleView",
            "_model_name": "ProgressStyleModel",
            "description_width": "",
            "_view_module": "@jupyter-widgets/base",
            "_model_module_version": "1.5.0",
            "_view_count": null,
            "_view_module_version": "1.2.0",
            "bar_color": null,
            "_model_module": "@jupyter-widgets/controls"
          }
        },
        "a4544f1a14c34d24875799ff253288a6": {
          "model_module": "@jupyter-widgets/base",
          "model_name": "LayoutModel",
          "model_module_version": "1.2.0",
          "state": {
            "_view_name": "LayoutView",
            "grid_template_rows": null,
            "right": null,
            "justify_content": null,
            "_view_module": "@jupyter-widgets/base",
            "overflow": null,
            "_model_module_version": "1.2.0",
            "_view_count": null,
            "flex_flow": null,
            "width": null,
            "min_width": null,
            "border": null,
            "align_items": null,
            "bottom": null,
            "_model_module": "@jupyter-widgets/base",
            "top": null,
            "grid_column": null,
            "overflow_y": null,
            "overflow_x": null,
            "grid_auto_flow": null,
            "grid_area": null,
            "grid_template_columns": null,
            "flex": null,
            "_model_name": "LayoutModel",
            "justify_items": null,
            "grid_row": null,
            "max_height": null,
            "align_content": null,
            "visibility": null,
            "align_self": null,
            "height": null,
            "min_height": null,
            "padding": null,
            "grid_auto_rows": null,
            "grid_gap": null,
            "max_width": null,
            "order": null,
            "_view_module_version": "1.2.0",
            "grid_template_areas": null,
            "object_position": null,
            "object_fit": null,
            "grid_auto_columns": null,
            "margin": null,
            "display": null,
            "left": null
          }
        },
        "33909405108845f98e7e34a5b5a26172": {
          "model_module": "@jupyter-widgets/controls",
          "model_name": "DescriptionStyleModel",
          "model_module_version": "1.5.0",
          "state": {
            "_view_name": "StyleView",
            "_model_name": "DescriptionStyleModel",
            "description_width": "",
            "_view_module": "@jupyter-widgets/base",
            "_model_module_version": "1.5.0",
            "_view_count": null,
            "_view_module_version": "1.2.0",
            "_model_module": "@jupyter-widgets/controls"
          }
        },
        "2f83b47c9ea640c39a443f70d72ab6a7": {
          "model_module": "@jupyter-widgets/base",
          "model_name": "LayoutModel",
          "model_module_version": "1.2.0",
          "state": {
            "_view_name": "LayoutView",
            "grid_template_rows": null,
            "right": null,
            "justify_content": null,
            "_view_module": "@jupyter-widgets/base",
            "overflow": null,
            "_model_module_version": "1.2.0",
            "_view_count": null,
            "flex_flow": null,
            "width": null,
            "min_width": null,
            "border": null,
            "align_items": null,
            "bottom": null,
            "_model_module": "@jupyter-widgets/base",
            "top": null,
            "grid_column": null,
            "overflow_y": null,
            "overflow_x": null,
            "grid_auto_flow": null,
            "grid_area": null,
            "grid_template_columns": null,
            "flex": null,
            "_model_name": "LayoutModel",
            "justify_items": null,
            "grid_row": null,
            "max_height": null,
            "align_content": null,
            "visibility": null,
            "align_self": null,
            "height": null,
            "min_height": null,
            "padding": null,
            "grid_auto_rows": null,
            "grid_gap": null,
            "max_width": null,
            "order": null,
            "_view_module_version": "1.2.0",
            "grid_template_areas": null,
            "object_position": null,
            "object_fit": null,
            "grid_auto_columns": null,
            "margin": null,
            "display": null,
            "left": null
          }
        },
        "1c9aeb9510ed42babd7cc181bc1c2e1e": {
          "model_module": "@jupyter-widgets/controls",
          "model_name": "HBoxModel",
          "model_module_version": "1.5.0",
          "state": {
            "_view_name": "HBoxView",
            "_dom_classes": [],
            "_model_name": "HBoxModel",
            "_view_module": "@jupyter-widgets/controls",
            "_model_module_version": "1.5.0",
            "_view_count": null,
            "_view_module_version": "1.5.0",
            "box_style": "",
            "layout": "IPY_MODEL_4a5a8270efd747ada938646da50404ef",
            "_model_module": "@jupyter-widgets/controls",
            "children": [
              "IPY_MODEL_ccc927c4e59044be8dd01c8bb709361e",
              "IPY_MODEL_b4b367b2d0bd4e989754588f7d5280aa",
              "IPY_MODEL_8da64c31495045d0a34cab69614619cc"
            ]
          }
        },
        "4a5a8270efd747ada938646da50404ef": {
          "model_module": "@jupyter-widgets/base",
          "model_name": "LayoutModel",
          "model_module_version": "1.2.0",
          "state": {
            "_view_name": "LayoutView",
            "grid_template_rows": null,
            "right": null,
            "justify_content": null,
            "_view_module": "@jupyter-widgets/base",
            "overflow": null,
            "_model_module_version": "1.2.0",
            "_view_count": null,
            "flex_flow": null,
            "width": null,
            "min_width": null,
            "border": null,
            "align_items": null,
            "bottom": null,
            "_model_module": "@jupyter-widgets/base",
            "top": null,
            "grid_column": null,
            "overflow_y": null,
            "overflow_x": null,
            "grid_auto_flow": null,
            "grid_area": null,
            "grid_template_columns": null,
            "flex": null,
            "_model_name": "LayoutModel",
            "justify_items": null,
            "grid_row": null,
            "max_height": null,
            "align_content": null,
            "visibility": null,
            "align_self": null,
            "height": null,
            "min_height": null,
            "padding": null,
            "grid_auto_rows": null,
            "grid_gap": null,
            "max_width": null,
            "order": null,
            "_view_module_version": "1.2.0",
            "grid_template_areas": null,
            "object_position": null,
            "object_fit": null,
            "grid_auto_columns": null,
            "margin": null,
            "display": null,
            "left": null
          }
        },
        "ccc927c4e59044be8dd01c8bb709361e": {
          "model_module": "@jupyter-widgets/controls",
          "model_name": "HTMLModel",
          "model_module_version": "1.5.0",
          "state": {
            "_view_name": "HTMLView",
            "style": "IPY_MODEL_b95308c6445c45e4b05bd5195b615805",
            "_dom_classes": [],
            "description": "",
            "_model_name": "HTMLModel",
            "placeholder": "​",
            "_view_module": "@jupyter-widgets/controls",
            "_model_module_version": "1.5.0",
            "value": "Downloading: 100%",
            "_view_count": null,
            "_view_module_version": "1.5.0",
            "description_tooltip": null,
            "_model_module": "@jupyter-widgets/controls",
            "layout": "IPY_MODEL_ec9b284a48034eb0b5aa7ed7cd724321"
          }
        },
        "b4b367b2d0bd4e989754588f7d5280aa": {
          "model_module": "@jupyter-widgets/controls",
          "model_name": "FloatProgressModel",
          "model_module_version": "1.5.0",
          "state": {
            "_view_name": "ProgressView",
            "style": "IPY_MODEL_d49a09ae993844c6a254465c80ce3f45",
            "_dom_classes": [],
            "description": "",
            "_model_name": "FloatProgressModel",
            "bar_style": "success",
            "max": 112,
            "_view_module": "@jupyter-widgets/controls",
            "_model_module_version": "1.5.0",
            "value": 112,
            "_view_count": null,
            "_view_module_version": "1.5.0",
            "orientation": "horizontal",
            "min": 0,
            "description_tooltip": null,
            "_model_module": "@jupyter-widgets/controls",
            "layout": "IPY_MODEL_c0a23e15932b47e794ce2c6da43f63af"
          }
        },
        "8da64c31495045d0a34cab69614619cc": {
          "model_module": "@jupyter-widgets/controls",
          "model_name": "HTMLModel",
          "model_module_version": "1.5.0",
          "state": {
            "_view_name": "HTMLView",
            "style": "IPY_MODEL_e404998de5014b8f9bc0fca415f9ac81",
            "_dom_classes": [],
            "description": "",
            "_model_name": "HTMLModel",
            "placeholder": "​",
            "_view_module": "@jupyter-widgets/controls",
            "_model_module_version": "1.5.0",
            "value": " 112/112 [00:00&lt;00:00, 1.70kB/s]",
            "_view_count": null,
            "_view_module_version": "1.5.0",
            "description_tooltip": null,
            "_model_module": "@jupyter-widgets/controls",
            "layout": "IPY_MODEL_4e53920906bd4a36ad5c47d5b0bfef11"
          }
        },
        "b95308c6445c45e4b05bd5195b615805": {
          "model_module": "@jupyter-widgets/controls",
          "model_name": "DescriptionStyleModel",
          "model_module_version": "1.5.0",
          "state": {
            "_view_name": "StyleView",
            "_model_name": "DescriptionStyleModel",
            "description_width": "",
            "_view_module": "@jupyter-widgets/base",
            "_model_module_version": "1.5.0",
            "_view_count": null,
            "_view_module_version": "1.2.0",
            "_model_module": "@jupyter-widgets/controls"
          }
        },
        "ec9b284a48034eb0b5aa7ed7cd724321": {
          "model_module": "@jupyter-widgets/base",
          "model_name": "LayoutModel",
          "model_module_version": "1.2.0",
          "state": {
            "_view_name": "LayoutView",
            "grid_template_rows": null,
            "right": null,
            "justify_content": null,
            "_view_module": "@jupyter-widgets/base",
            "overflow": null,
            "_model_module_version": "1.2.0",
            "_view_count": null,
            "flex_flow": null,
            "width": null,
            "min_width": null,
            "border": null,
            "align_items": null,
            "bottom": null,
            "_model_module": "@jupyter-widgets/base",
            "top": null,
            "grid_column": null,
            "overflow_y": null,
            "overflow_x": null,
            "grid_auto_flow": null,
            "grid_area": null,
            "grid_template_columns": null,
            "flex": null,
            "_model_name": "LayoutModel",
            "justify_items": null,
            "grid_row": null,
            "max_height": null,
            "align_content": null,
            "visibility": null,
            "align_self": null,
            "height": null,
            "min_height": null,
            "padding": null,
            "grid_auto_rows": null,
            "grid_gap": null,
            "max_width": null,
            "order": null,
            "_view_module_version": "1.2.0",
            "grid_template_areas": null,
            "object_position": null,
            "object_fit": null,
            "grid_auto_columns": null,
            "margin": null,
            "display": null,
            "left": null
          }
        },
        "d49a09ae993844c6a254465c80ce3f45": {
          "model_module": "@jupyter-widgets/controls",
          "model_name": "ProgressStyleModel",
          "model_module_version": "1.5.0",
          "state": {
            "_view_name": "StyleView",
            "_model_name": "ProgressStyleModel",
            "description_width": "",
            "_view_module": "@jupyter-widgets/base",
            "_model_module_version": "1.5.0",
            "_view_count": null,
            "_view_module_version": "1.2.0",
            "bar_color": null,
            "_model_module": "@jupyter-widgets/controls"
          }
        },
        "c0a23e15932b47e794ce2c6da43f63af": {
          "model_module": "@jupyter-widgets/base",
          "model_name": "LayoutModel",
          "model_module_version": "1.2.0",
          "state": {
            "_view_name": "LayoutView",
            "grid_template_rows": null,
            "right": null,
            "justify_content": null,
            "_view_module": "@jupyter-widgets/base",
            "overflow": null,
            "_model_module_version": "1.2.0",
            "_view_count": null,
            "flex_flow": null,
            "width": null,
            "min_width": null,
            "border": null,
            "align_items": null,
            "bottom": null,
            "_model_module": "@jupyter-widgets/base",
            "top": null,
            "grid_column": null,
            "overflow_y": null,
            "overflow_x": null,
            "grid_auto_flow": null,
            "grid_area": null,
            "grid_template_columns": null,
            "flex": null,
            "_model_name": "LayoutModel",
            "justify_items": null,
            "grid_row": null,
            "max_height": null,
            "align_content": null,
            "visibility": null,
            "align_self": null,
            "height": null,
            "min_height": null,
            "padding": null,
            "grid_auto_rows": null,
            "grid_gap": null,
            "max_width": null,
            "order": null,
            "_view_module_version": "1.2.0",
            "grid_template_areas": null,
            "object_position": null,
            "object_fit": null,
            "grid_auto_columns": null,
            "margin": null,
            "display": null,
            "left": null
          }
        },
        "e404998de5014b8f9bc0fca415f9ac81": {
          "model_module": "@jupyter-widgets/controls",
          "model_name": "DescriptionStyleModel",
          "model_module_version": "1.5.0",
          "state": {
            "_view_name": "StyleView",
            "_model_name": "DescriptionStyleModel",
            "description_width": "",
            "_view_module": "@jupyter-widgets/base",
            "_model_module_version": "1.5.0",
            "_view_count": null,
            "_view_module_version": "1.2.0",
            "_model_module": "@jupyter-widgets/controls"
          }
        },
        "4e53920906bd4a36ad5c47d5b0bfef11": {
          "model_module": "@jupyter-widgets/base",
          "model_name": "LayoutModel",
          "model_module_version": "1.2.0",
          "state": {
            "_view_name": "LayoutView",
            "grid_template_rows": null,
            "right": null,
            "justify_content": null,
            "_view_module": "@jupyter-widgets/base",
            "overflow": null,
            "_model_module_version": "1.2.0",
            "_view_count": null,
            "flex_flow": null,
            "width": null,
            "min_width": null,
            "border": null,
            "align_items": null,
            "bottom": null,
            "_model_module": "@jupyter-widgets/base",
            "top": null,
            "grid_column": null,
            "overflow_y": null,
            "overflow_x": null,
            "grid_auto_flow": null,
            "grid_area": null,
            "grid_template_columns": null,
            "flex": null,
            "_model_name": "LayoutModel",
            "justify_items": null,
            "grid_row": null,
            "max_height": null,
            "align_content": null,
            "visibility": null,
            "align_self": null,
            "height": null,
            "min_height": null,
            "padding": null,
            "grid_auto_rows": null,
            "grid_gap": null,
            "max_width": null,
            "order": null,
            "_view_module_version": "1.2.0",
            "grid_template_areas": null,
            "object_position": null,
            "object_fit": null,
            "grid_auto_columns": null,
            "margin": null,
            "display": null,
            "left": null
          }
        },
        "3be5e9bf107b4b3c838c4c1ec178fef7": {
          "model_module": "@jupyter-widgets/controls",
          "model_name": "HBoxModel",
          "model_module_version": "1.5.0",
          "state": {
            "_view_name": "HBoxView",
            "_dom_classes": [],
            "_model_name": "HBoxModel",
            "_view_module": "@jupyter-widgets/controls",
            "_model_module_version": "1.5.0",
            "_view_count": null,
            "_view_module_version": "1.5.0",
            "box_style": "",
            "layout": "IPY_MODEL_f785d264b12843daa3389fb532ed571b",
            "_model_module": "@jupyter-widgets/controls",
            "children": [
              "IPY_MODEL_3313aca3c1c448cd8bab6e35d460a827",
              "IPY_MODEL_4c259618846d4c71bfcaedbb8a1df884",
              "IPY_MODEL_531280b73a954f5d891c28b0dcbdde5a"
            ]
          }
        },
        "f785d264b12843daa3389fb532ed571b": {
          "model_module": "@jupyter-widgets/base",
          "model_name": "LayoutModel",
          "model_module_version": "1.2.0",
          "state": {
            "_view_name": "LayoutView",
            "grid_template_rows": null,
            "right": null,
            "justify_content": null,
            "_view_module": "@jupyter-widgets/base",
            "overflow": null,
            "_model_module_version": "1.2.0",
            "_view_count": null,
            "flex_flow": null,
            "width": null,
            "min_width": null,
            "border": null,
            "align_items": null,
            "bottom": null,
            "_model_module": "@jupyter-widgets/base",
            "top": null,
            "grid_column": null,
            "overflow_y": null,
            "overflow_x": null,
            "grid_auto_flow": null,
            "grid_area": null,
            "grid_template_columns": null,
            "flex": null,
            "_model_name": "LayoutModel",
            "justify_items": null,
            "grid_row": null,
            "max_height": null,
            "align_content": null,
            "visibility": null,
            "align_self": null,
            "height": null,
            "min_height": null,
            "padding": null,
            "grid_auto_rows": null,
            "grid_gap": null,
            "max_width": null,
            "order": null,
            "_view_module_version": "1.2.0",
            "grid_template_areas": null,
            "object_position": null,
            "object_fit": null,
            "grid_auto_columns": null,
            "margin": null,
            "display": null,
            "left": null
          }
        },
        "3313aca3c1c448cd8bab6e35d460a827": {
          "model_module": "@jupyter-widgets/controls",
          "model_name": "HTMLModel",
          "model_module_version": "1.5.0",
          "state": {
            "_view_name": "HTMLView",
            "style": "IPY_MODEL_1d617358d87648f3bc1ea89e28386128",
            "_dom_classes": [],
            "description": "",
            "_model_name": "HTMLModel",
            "placeholder": "​",
            "_view_module": "@jupyter-widgets/controls",
            "_model_module_version": "1.5.0",
            "value": "Downloading: 100%",
            "_view_count": null,
            "_view_module_version": "1.5.0",
            "description_tooltip": null,
            "_model_module": "@jupyter-widgets/controls",
            "layout": "IPY_MODEL_130d5fc49b4f4ebe99467120280b977d"
          }
        },
        "4c259618846d4c71bfcaedbb8a1df884": {
          "model_module": "@jupyter-widgets/controls",
          "model_name": "FloatProgressModel",
          "model_module_version": "1.5.0",
          "state": {
            "_view_name": "ProgressView",
            "style": "IPY_MODEL_e7a32c3559fb4d80bdda881e8f3af906",
            "_dom_classes": [],
            "description": "",
            "_model_name": "FloatProgressModel",
            "bar_style": "success",
            "max": 361,
            "_view_module": "@jupyter-widgets/controls",
            "_model_module_version": "1.5.0",
            "value": 361,
            "_view_count": null,
            "_view_module_version": "1.5.0",
            "orientation": "horizontal",
            "min": 0,
            "description_tooltip": null,
            "_model_module": "@jupyter-widgets/controls",
            "layout": "IPY_MODEL_8d9cefd9e9e64659b9222fd81b9d28c0"
          }
        },
        "531280b73a954f5d891c28b0dcbdde5a": {
          "model_module": "@jupyter-widgets/controls",
          "model_name": "HTMLModel",
          "model_module_version": "1.5.0",
          "state": {
            "_view_name": "HTMLView",
            "style": "IPY_MODEL_d69162b4a1534a15b70d5753bc68a834",
            "_dom_classes": [],
            "description": "",
            "_model_name": "HTMLModel",
            "placeholder": "​",
            "_view_module": "@jupyter-widgets/controls",
            "_model_module_version": "1.5.0",
            "value": " 361/361 [00:00&lt;00:00, 10.9kB/s]",
            "_view_count": null,
            "_view_module_version": "1.5.0",
            "description_tooltip": null,
            "_model_module": "@jupyter-widgets/controls",
            "layout": "IPY_MODEL_3fbb3e490b5440279f5e796f3f01f451"
          }
        },
        "1d617358d87648f3bc1ea89e28386128": {
          "model_module": "@jupyter-widgets/controls",
          "model_name": "DescriptionStyleModel",
          "model_module_version": "1.5.0",
          "state": {
            "_view_name": "StyleView",
            "_model_name": "DescriptionStyleModel",
            "description_width": "",
            "_view_module": "@jupyter-widgets/base",
            "_model_module_version": "1.5.0",
            "_view_count": null,
            "_view_module_version": "1.2.0",
            "_model_module": "@jupyter-widgets/controls"
          }
        },
        "130d5fc49b4f4ebe99467120280b977d": {
          "model_module": "@jupyter-widgets/base",
          "model_name": "LayoutModel",
          "model_module_version": "1.2.0",
          "state": {
            "_view_name": "LayoutView",
            "grid_template_rows": null,
            "right": null,
            "justify_content": null,
            "_view_module": "@jupyter-widgets/base",
            "overflow": null,
            "_model_module_version": "1.2.0",
            "_view_count": null,
            "flex_flow": null,
            "width": null,
            "min_width": null,
            "border": null,
            "align_items": null,
            "bottom": null,
            "_model_module": "@jupyter-widgets/base",
            "top": null,
            "grid_column": null,
            "overflow_y": null,
            "overflow_x": null,
            "grid_auto_flow": null,
            "grid_area": null,
            "grid_template_columns": null,
            "flex": null,
            "_model_name": "LayoutModel",
            "justify_items": null,
            "grid_row": null,
            "max_height": null,
            "align_content": null,
            "visibility": null,
            "align_self": null,
            "height": null,
            "min_height": null,
            "padding": null,
            "grid_auto_rows": null,
            "grid_gap": null,
            "max_width": null,
            "order": null,
            "_view_module_version": "1.2.0",
            "grid_template_areas": null,
            "object_position": null,
            "object_fit": null,
            "grid_auto_columns": null,
            "margin": null,
            "display": null,
            "left": null
          }
        },
        "e7a32c3559fb4d80bdda881e8f3af906": {
          "model_module": "@jupyter-widgets/controls",
          "model_name": "ProgressStyleModel",
          "model_module_version": "1.5.0",
          "state": {
            "_view_name": "StyleView",
            "_model_name": "ProgressStyleModel",
            "description_width": "",
            "_view_module": "@jupyter-widgets/base",
            "_model_module_version": "1.5.0",
            "_view_count": null,
            "_view_module_version": "1.2.0",
            "bar_color": null,
            "_model_module": "@jupyter-widgets/controls"
          }
        },
        "8d9cefd9e9e64659b9222fd81b9d28c0": {
          "model_module": "@jupyter-widgets/base",
          "model_name": "LayoutModel",
          "model_module_version": "1.2.0",
          "state": {
            "_view_name": "LayoutView",
            "grid_template_rows": null,
            "right": null,
            "justify_content": null,
            "_view_module": "@jupyter-widgets/base",
            "overflow": null,
            "_model_module_version": "1.2.0",
            "_view_count": null,
            "flex_flow": null,
            "width": null,
            "min_width": null,
            "border": null,
            "align_items": null,
            "bottom": null,
            "_model_module": "@jupyter-widgets/base",
            "top": null,
            "grid_column": null,
            "overflow_y": null,
            "overflow_x": null,
            "grid_auto_flow": null,
            "grid_area": null,
            "grid_template_columns": null,
            "flex": null,
            "_model_name": "LayoutModel",
            "justify_items": null,
            "grid_row": null,
            "max_height": null,
            "align_content": null,
            "visibility": null,
            "align_self": null,
            "height": null,
            "min_height": null,
            "padding": null,
            "grid_auto_rows": null,
            "grid_gap": null,
            "max_width": null,
            "order": null,
            "_view_module_version": "1.2.0",
            "grid_template_areas": null,
            "object_position": null,
            "object_fit": null,
            "grid_auto_columns": null,
            "margin": null,
            "display": null,
            "left": null
          }
        },
        "d69162b4a1534a15b70d5753bc68a834": {
          "model_module": "@jupyter-widgets/controls",
          "model_name": "DescriptionStyleModel",
          "model_module_version": "1.5.0",
          "state": {
            "_view_name": "StyleView",
            "_model_name": "DescriptionStyleModel",
            "description_width": "",
            "_view_module": "@jupyter-widgets/base",
            "_model_module_version": "1.5.0",
            "_view_count": null,
            "_view_module_version": "1.2.0",
            "_model_module": "@jupyter-widgets/controls"
          }
        },
        "3fbb3e490b5440279f5e796f3f01f451": {
          "model_module": "@jupyter-widgets/base",
          "model_name": "LayoutModel",
          "model_module_version": "1.2.0",
          "state": {
            "_view_name": "LayoutView",
            "grid_template_rows": null,
            "right": null,
            "justify_content": null,
            "_view_module": "@jupyter-widgets/base",
            "overflow": null,
            "_model_module_version": "1.2.0",
            "_view_count": null,
            "flex_flow": null,
            "width": null,
            "min_width": null,
            "border": null,
            "align_items": null,
            "bottom": null,
            "_model_module": "@jupyter-widgets/base",
            "top": null,
            "grid_column": null,
            "overflow_y": null,
            "overflow_x": null,
            "grid_auto_flow": null,
            "grid_area": null,
            "grid_template_columns": null,
            "flex": null,
            "_model_name": "LayoutModel",
            "justify_items": null,
            "grid_row": null,
            "max_height": null,
            "align_content": null,
            "visibility": null,
            "align_self": null,
            "height": null,
            "min_height": null,
            "padding": null,
            "grid_auto_rows": null,
            "grid_gap": null,
            "max_width": null,
            "order": null,
            "_view_module_version": "1.2.0",
            "grid_template_areas": null,
            "object_position": null,
            "object_fit": null,
            "grid_auto_columns": null,
            "margin": null,
            "display": null,
            "left": null
          }
        },
        "c9ccd2bbeadc486bb6ce728a48b05680": {
          "model_module": "@jupyter-widgets/controls",
          "model_name": "HBoxModel",
          "model_module_version": "1.5.0",
          "state": {
            "_view_name": "HBoxView",
            "_dom_classes": [],
            "_model_name": "HBoxModel",
            "_view_module": "@jupyter-widgets/controls",
            "_model_module_version": "1.5.0",
            "_view_count": null,
            "_view_module_version": "1.5.0",
            "box_style": "",
            "layout": "IPY_MODEL_81788b1f4b644908b5f8928069f51dd4",
            "_model_module": "@jupyter-widgets/controls",
            "children": [
              "IPY_MODEL_04dedcc60efb4605b24fb8191dc4fd50",
              "IPY_MODEL_c21decc775da470b995d5e025d6e4fb8",
              "IPY_MODEL_029bbc7f7c4a48f8ad9cc4ccca0a8a10"
            ]
          }
        },
        "81788b1f4b644908b5f8928069f51dd4": {
          "model_module": "@jupyter-widgets/base",
          "model_name": "LayoutModel",
          "model_module_version": "1.2.0",
          "state": {
            "_view_name": "LayoutView",
            "grid_template_rows": null,
            "right": null,
            "justify_content": null,
            "_view_module": "@jupyter-widgets/base",
            "overflow": null,
            "_model_module_version": "1.2.0",
            "_view_count": null,
            "flex_flow": null,
            "width": null,
            "min_width": null,
            "border": null,
            "align_items": null,
            "bottom": null,
            "_model_module": "@jupyter-widgets/base",
            "top": null,
            "grid_column": null,
            "overflow_y": null,
            "overflow_x": null,
            "grid_auto_flow": null,
            "grid_area": null,
            "grid_template_columns": null,
            "flex": null,
            "_model_name": "LayoutModel",
            "justify_items": null,
            "grid_row": null,
            "max_height": null,
            "align_content": null,
            "visibility": null,
            "align_self": null,
            "height": null,
            "min_height": null,
            "padding": null,
            "grid_auto_rows": null,
            "grid_gap": null,
            "max_width": null,
            "order": null,
            "_view_module_version": "1.2.0",
            "grid_template_areas": null,
            "object_position": null,
            "object_fit": null,
            "grid_auto_columns": null,
            "margin": null,
            "display": null,
            "left": null
          }
        },
        "04dedcc60efb4605b24fb8191dc4fd50": {
          "model_module": "@jupyter-widgets/controls",
          "model_name": "HTMLModel",
          "model_module_version": "1.5.0",
          "state": {
            "_view_name": "HTMLView",
            "style": "IPY_MODEL_bc9ea8941b0248dc84a191f020934914",
            "_dom_classes": [],
            "description": "",
            "_model_name": "HTMLModel",
            "placeholder": "​",
            "_view_module": "@jupyter-widgets/controls",
            "_model_module_version": "1.5.0",
            "value": "Downloading: 100%",
            "_view_count": null,
            "_view_module_version": "1.5.0",
            "description_tooltip": null,
            "_model_module": "@jupyter-widgets/controls",
            "layout": "IPY_MODEL_8de2c09232544678b25c24bff32c6e53"
          }
        },
        "c21decc775da470b995d5e025d6e4fb8": {
          "model_module": "@jupyter-widgets/controls",
          "model_name": "FloatProgressModel",
          "model_module_version": "1.5.0",
          "state": {
            "_view_name": "ProgressView",
            "style": "IPY_MODEL_002f0156251c454c9f05f4a2d0e43091",
            "_dom_classes": [],
            "description": "",
            "_model_name": "FloatProgressModel",
            "bar_style": "success",
            "max": 1684058277,
            "_view_module": "@jupyter-widgets/controls",
            "_model_module_version": "1.5.0",
            "value": 1684058277,
            "_view_count": null,
            "_view_module_version": "1.5.0",
            "orientation": "horizontal",
            "min": 0,
            "description_tooltip": null,
            "_model_module": "@jupyter-widgets/controls",
            "layout": "IPY_MODEL_f1e8ab181ba64d14b117d19bef20954f"
          }
        },
        "029bbc7f7c4a48f8ad9cc4ccca0a8a10": {
          "model_module": "@jupyter-widgets/controls",
          "model_name": "HTMLModel",
          "model_module_version": "1.5.0",
          "state": {
            "_view_name": "HTMLView",
            "style": "IPY_MODEL_614d238395284901be418686d1eaedc3",
            "_dom_classes": [],
            "description": "",
            "_model_name": "HTMLModel",
            "placeholder": "​",
            "_view_module": "@jupyter-widgets/controls",
            "_model_module_version": "1.5.0",
            "value": " 1.57G/1.57G [01:45&lt;00:00, 34.5MB/s]",
            "_view_count": null,
            "_view_module_version": "1.5.0",
            "description_tooltip": null,
            "_model_module": "@jupyter-widgets/controls",
            "layout": "IPY_MODEL_6fcaa36637c6450c8dba1dbe2cef05a1"
          }
        },
        "bc9ea8941b0248dc84a191f020934914": {
          "model_module": "@jupyter-widgets/controls",
          "model_name": "DescriptionStyleModel",
          "model_module_version": "1.5.0",
          "state": {
            "_view_name": "StyleView",
            "_model_name": "DescriptionStyleModel",
            "description_width": "",
            "_view_module": "@jupyter-widgets/base",
            "_model_module_version": "1.5.0",
            "_view_count": null,
            "_view_module_version": "1.2.0",
            "_model_module": "@jupyter-widgets/controls"
          }
        },
        "8de2c09232544678b25c24bff32c6e53": {
          "model_module": "@jupyter-widgets/base",
          "model_name": "LayoutModel",
          "model_module_version": "1.2.0",
          "state": {
            "_view_name": "LayoutView",
            "grid_template_rows": null,
            "right": null,
            "justify_content": null,
            "_view_module": "@jupyter-widgets/base",
            "overflow": null,
            "_model_module_version": "1.2.0",
            "_view_count": null,
            "flex_flow": null,
            "width": null,
            "min_width": null,
            "border": null,
            "align_items": null,
            "bottom": null,
            "_model_module": "@jupyter-widgets/base",
            "top": null,
            "grid_column": null,
            "overflow_y": null,
            "overflow_x": null,
            "grid_auto_flow": null,
            "grid_area": null,
            "grid_template_columns": null,
            "flex": null,
            "_model_name": "LayoutModel",
            "justify_items": null,
            "grid_row": null,
            "max_height": null,
            "align_content": null,
            "visibility": null,
            "align_self": null,
            "height": null,
            "min_height": null,
            "padding": null,
            "grid_auto_rows": null,
            "grid_gap": null,
            "max_width": null,
            "order": null,
            "_view_module_version": "1.2.0",
            "grid_template_areas": null,
            "object_position": null,
            "object_fit": null,
            "grid_auto_columns": null,
            "margin": null,
            "display": null,
            "left": null
          }
        },
        "002f0156251c454c9f05f4a2d0e43091": {
          "model_module": "@jupyter-widgets/controls",
          "model_name": "ProgressStyleModel",
          "model_module_version": "1.5.0",
          "state": {
            "_view_name": "StyleView",
            "_model_name": "ProgressStyleModel",
            "description_width": "",
            "_view_module": "@jupyter-widgets/base",
            "_model_module_version": "1.5.0",
            "_view_count": null,
            "_view_module_version": "1.2.0",
            "bar_color": null,
            "_model_module": "@jupyter-widgets/controls"
          }
        },
        "f1e8ab181ba64d14b117d19bef20954f": {
          "model_module": "@jupyter-widgets/base",
          "model_name": "LayoutModel",
          "model_module_version": "1.2.0",
          "state": {
            "_view_name": "LayoutView",
            "grid_template_rows": null,
            "right": null,
            "justify_content": null,
            "_view_module": "@jupyter-widgets/base",
            "overflow": null,
            "_model_module_version": "1.2.0",
            "_view_count": null,
            "flex_flow": null,
            "width": null,
            "min_width": null,
            "border": null,
            "align_items": null,
            "bottom": null,
            "_model_module": "@jupyter-widgets/base",
            "top": null,
            "grid_column": null,
            "overflow_y": null,
            "overflow_x": null,
            "grid_auto_flow": null,
            "grid_area": null,
            "grid_template_columns": null,
            "flex": null,
            "_model_name": "LayoutModel",
            "justify_items": null,
            "grid_row": null,
            "max_height": null,
            "align_content": null,
            "visibility": null,
            "align_self": null,
            "height": null,
            "min_height": null,
            "padding": null,
            "grid_auto_rows": null,
            "grid_gap": null,
            "max_width": null,
            "order": null,
            "_view_module_version": "1.2.0",
            "grid_template_areas": null,
            "object_position": null,
            "object_fit": null,
            "grid_auto_columns": null,
            "margin": null,
            "display": null,
            "left": null
          }
        },
        "614d238395284901be418686d1eaedc3": {
          "model_module": "@jupyter-widgets/controls",
          "model_name": "DescriptionStyleModel",
          "model_module_version": "1.5.0",
          "state": {
            "_view_name": "StyleView",
            "_model_name": "DescriptionStyleModel",
            "description_width": "",
            "_view_module": "@jupyter-widgets/base",
            "_model_module_version": "1.5.0",
            "_view_count": null,
            "_view_module_version": "1.2.0",
            "_model_module": "@jupyter-widgets/controls"
          }
        },
        "6fcaa36637c6450c8dba1dbe2cef05a1": {
          "model_module": "@jupyter-widgets/base",
          "model_name": "LayoutModel",
          "model_module_version": "1.2.0",
          "state": {
            "_view_name": "LayoutView",
            "grid_template_rows": null,
            "right": null,
            "justify_content": null,
            "_view_module": "@jupyter-widgets/base",
            "overflow": null,
            "_model_module_version": "1.2.0",
            "_view_count": null,
            "flex_flow": null,
            "width": null,
            "min_width": null,
            "border": null,
            "align_items": null,
            "bottom": null,
            "_model_module": "@jupyter-widgets/base",
            "top": null,
            "grid_column": null,
            "overflow_y": null,
            "overflow_x": null,
            "grid_auto_flow": null,
            "grid_area": null,
            "grid_template_columns": null,
            "flex": null,
            "_model_name": "LayoutModel",
            "justify_items": null,
            "grid_row": null,
            "max_height": null,
            "align_content": null,
            "visibility": null,
            "align_self": null,
            "height": null,
            "min_height": null,
            "padding": null,
            "grid_auto_rows": null,
            "grid_gap": null,
            "max_width": null,
            "order": null,
            "_view_module_version": "1.2.0",
            "grid_template_areas": null,
            "object_position": null,
            "object_fit": null,
            "grid_auto_columns": null,
            "margin": null,
            "display": null,
            "left": null
          }
        }
      }
    }
  },
  "nbformat_minor": 0,
  "nbformat": 4,
  "cells": [
    {
      "cell_type": "code",
      "source": [
        "from google.colab import drive\n",
        "drive.mount('/content/drive')"
      ],
      "metadata": {
        "id": "DYAd0P1OK09R",
        "outputId": "95a1e6ab-92f3-49e4-a8ae-c04b440aca5d",
        "colab": {
          "base_uri": "https://localhost:8080/"
        }
      },
      "execution_count": null,
      "outputs": [
        {
          "output_type": "stream",
          "name": "stdout",
          "text": [
            "Mounted at /content/drive\n"
          ]
        }
      ]
    },
    {
      "cell_type": "code",
      "source": [
        "!mkdir pfam\n",
        "!cp drive/MyDrive/archive.zip pfam"
      ],
      "metadata": {
        "id": "PDzzsP-PN4rs"
      },
      "execution_count": null,
      "outputs": []
    },
    {
      "cell_type": "code",
      "source": [
        "!unzip pfam/archive.zip -d pfam/"
      ],
      "metadata": {
        "id": "lQ48m730OJjB"
      },
      "execution_count": null,
      "outputs": []
    },
    {
      "cell_type": "code",
      "source": [
        "import glob\n",
        "import pandas as pd\n",
        "\n",
        "def read_files(dir):\n",
        "    \"\"\"\n",
        "    -Description:\n",
        "    \n",
        "    Read all files from directory matching substring\n",
        "\n",
        "    @param str dir: directory where the files are stored\n",
        "\n",
        "    @out DataFrame: pandas dataframe containing all\n",
        "    \"\"\"\n",
        "    files = glob.glob(dir+\"/*\")\n",
        "    dfs = []\n",
        "    for file in files:\n",
        "        df = pd.read_csv(file , index_col = None)\n",
        "        dfs.append(df)\n",
        "    return pd.concat(dfs)"
      ],
      "metadata": {
        "id": "IOZLxx07O_Fx",
        "execution": {
          "iopub.status.busy": "2022-02-17T23:23:03.172208Z",
          "iopub.execute_input": "2022-02-17T23:23:03.172807Z",
          "iopub.status.idle": "2022-02-17T23:23:03.195668Z",
          "shell.execute_reply.started": "2022-02-17T23:23:03.172712Z",
          "shell.execute_reply": "2022-02-17T23:23:03.194928Z"
        },
        "trusted": true
      },
      "execution_count": null,
      "outputs": []
    },
    {
      "cell_type": "code",
      "source": [
        "#Read training , dev and test data separately:\n",
        "\n",
        "train = read_files(\"pfam/random_split/train\")\n",
        "dev = read_files(\"pfam/random_split/dev\")\n",
        "test = read_files(\"pfam/random_split/test\")"
      ],
      "metadata": {
        "id": "xb4ZUqlzPDGl"
      },
      "execution_count": null,
      "outputs": []
    },
    {
      "cell_type": "code",
      "source": [
        "!pip install pycodestyle pycodestyle_magic\n",
        "!pip install flake8"
      ],
      "metadata": {
        "id": "Yt5EYke38jGG"
      },
      "execution_count": null,
      "outputs": []
    },
    {
      "cell_type": "markdown",
      "source": [
        "Pycodestyle can be used as an alternative to **pylint** for ensuring the use of a correct coding standard."
      ],
      "metadata": {
        "id": "tleHAKR08kxm"
      }
    },
    {
      "cell_type": "code",
      "source": [
        "%load_ext pycodestyle_magic"
      ],
      "metadata": {
        "id": "ALS0j4dU9Aiu"
      },
      "execution_count": null,
      "outputs": []
    },
    {
      "cell_type": "markdown",
      "source": [
        "\n",
        "\n",
        "---\n",
        "\n",
        "\n",
        "# Dataset Analysis\n",
        "\n",
        "Before getting started with the modelling, I will perform exploratory data analysis to get a deeper understanding of the data and find potential caveats in the data. \n",
        "\n",
        "As the number of classes is very high, it is important to check that they are contained on the validation and test set."
      ],
      "metadata": {
        "id": "iINxordWs07c"
      }
    },
    {
      "cell_type": "code",
      "source": [
        "print(\"Unique classes on train set: \" , len(train[\"family_accession\"].unique()) )\n",
        "print(\"Unique classes on dev set: \" , len(dev[\"family_accession\"].unique()))\n",
        "print(\"Unique classes on test set: \" , len(test[\"family_accession\"].unique()))"
      ],
      "metadata": {
        "id": "gXlnQWvVsQ98",
        "outputId": "cd33ef32-390e-48fb-adaa-176ae9d08e9d",
        "execution": {
          "iopub.status.busy": "2022-02-17T23:23:18.318518Z",
          "iopub.execute_input": "2022-02-17T23:23:18.318877Z",
          "iopub.status.idle": "2022-02-17T23:23:18.528495Z",
          "shell.execute_reply.started": "2022-02-17T23:23:18.318842Z",
          "shell.execute_reply": "2022-02-17T23:23:18.527125Z"
        },
        "trusted": true,
        "colab": {
          "base_uri": "https://localhost:8080/"
        }
      },
      "execution_count": null,
      "outputs": [
        {
          "output_type": "stream",
          "name": "stdout",
          "text": [
            "Unique classes on train set:  17929\n",
            "Unique classes on dev set:  13071\n",
            "Unique classes on test set:  13071\n"
          ]
        }
      ]
    },
    {
      "cell_type": "code",
      "source": [
        "unique_dev = dev[\"family_accession\"].unique().tolist()\n",
        "unique_test = test[\"family_accession\"].unique().tolist()\n",
        "print(\"Classes in dev and test are the same? \" , sorted(unique_dev) == sorted(unique_test))\n",
        "\n",
        "train = train[train.family_accession.isin(unique_dev)]"
      ],
      "metadata": {
        "id": "GyWetQohuKHT",
        "outputId": "66133350-8b17-4fdf-9860-f922a60920c7",
        "execution": {
          "iopub.status.busy": "2022-02-17T23:23:18.529977Z",
          "iopub.execute_input": "2022-02-17T23:23:18.530300Z",
          "iopub.status.idle": "2022-02-17T23:23:18.828404Z",
          "shell.execute_reply.started": "2022-02-17T23:23:18.530237Z",
          "shell.execute_reply": "2022-02-17T23:23:18.827626Z"
        },
        "trusted": true,
        "colab": {
          "base_uri": "https://localhost:8080/"
        }
      },
      "execution_count": null,
      "outputs": [
        {
          "output_type": "stream",
          "name": "stdout",
          "text": [
            "Classes in dev and test are the same?  True\n"
          ]
        }
      ]
    },
    {
      "cell_type": "markdown",
      "source": [
        "Since the length of unique values for the labels in the train and dev/test set differs, we should only retain those classes present on the test set. "
      ],
      "metadata": {
        "id": "TvrEp2vOtZDz"
      }
    },
    {
      "cell_type": "markdown",
      "source": [
        "(Due to limitations on the access to GPU RAM I will slice a subset of the dataset)"
      ],
      "metadata": {
        "id": "6sqS_5R0u8o7"
      }
    },
    {
      "cell_type": "code",
      "source": [
        "counts = train[\"family_accession\"].value_counts()"
      ],
      "metadata": {
        "id": "8w4rDpm6IRPw",
        "execution": {
          "iopub.status.busy": "2022-02-17T23:23:18.830929Z",
          "iopub.execute_input": "2022-02-17T23:23:18.831427Z",
          "iopub.status.idle": "2022-02-17T23:23:19.005680Z",
          "shell.execute_reply.started": "2022-02-17T23:23:18.831379Z",
          "shell.execute_reply": "2022-02-17T23:23:19.004911Z"
        },
        "trusted": true
      },
      "execution_count": null,
      "outputs": []
    },
    {
      "cell_type": "code",
      "source": [
        "#Obtain the classes with over 1000 data points on the training set\n",
        "usable_classes = counts[counts > 1000].index.values.tolist()"
      ],
      "metadata": {
        "id": "8GQ0j8naMlPV",
        "execution": {
          "iopub.status.busy": "2022-02-17T23:23:19.006954Z",
          "iopub.execute_input": "2022-02-17T23:23:19.007252Z",
          "iopub.status.idle": "2022-02-17T23:23:19.013844Z",
          "shell.execute_reply.started": "2022-02-17T23:23:19.007212Z",
          "shell.execute_reply": "2022-02-17T23:23:19.012990Z"
        },
        "trusted": true
      },
      "execution_count": null,
      "outputs": []
    },
    {
      "cell_type": "code",
      "source": [
        "train = train[train.family_accession.isin(usable_classes)]\n",
        "dev = dev[dev.family_accession.isin(usable_classes)]\n",
        "test = test[test.family_accession.isin(usable_classes)]"
      ],
      "metadata": {
        "id": "Of6DfyCTIsZd",
        "execution": {
          "iopub.status.busy": "2022-02-17T23:23:19.015417Z",
          "iopub.execute_input": "2022-02-17T23:23:19.015690Z",
          "iopub.status.idle": "2022-02-17T23:23:19.305686Z",
          "shell.execute_reply.started": "2022-02-17T23:23:19.015655Z",
          "shell.execute_reply": "2022-02-17T23:23:19.304931Z"
        },
        "trusted": true
      },
      "execution_count": null,
      "outputs": []
    },
    {
      "cell_type": "code",
      "source": [
        "NUM_CLASSES = len(usable_classes)\n",
        "\n",
        "print(\"Number of classes \" , NUM_CLASSES)"
      ],
      "metadata": {
        "id": "CBm7Plk3Y8Hy",
        "outputId": "24bb6fab-6acc-42eb-be07-be3809c3b9aa",
        "execution": {
          "iopub.status.busy": "2022-02-17T23:23:19.309102Z",
          "iopub.execute_input": "2022-02-17T23:23:19.309324Z",
          "iopub.status.idle": "2022-02-17T23:23:19.316108Z",
          "shell.execute_reply.started": "2022-02-17T23:23:19.309293Z",
          "shell.execute_reply": "2022-02-17T23:23:19.315456Z"
        },
        "trusted": true,
        "colab": {
          "base_uri": "https://localhost:8080/"
        }
      },
      "execution_count": null,
      "outputs": [
        {
          "output_type": "stream",
          "name": "stdout",
          "text": [
            "Number of classes  26\n"
          ]
        }
      ]
    },
    {
      "cell_type": "code",
      "source": [
        "train.head(10)"
      ],
      "metadata": {
        "id": "VsEXZDq3PvxS",
        "colab": {
          "base_uri": "https://localhost:8080/",
          "height": 359
        },
        "outputId": "2156ea15-e854-45db-9628-1797a4e1fb94"
      },
      "execution_count": null,
      "outputs": [
        {
          "output_type": "execute_result",
          "data": {
            "text/html": [
              "\n",
              "  <div id=\"df-7a8bc94c-7dfe-4115-8de0-0460bbfa8a49\">\n",
              "    <div class=\"colab-df-container\">\n",
              "      <div>\n",
              "<style scoped>\n",
              "    .dataframe tbody tr th:only-of-type {\n",
              "        vertical-align: middle;\n",
              "    }\n",
              "\n",
              "    .dataframe tbody tr th {\n",
              "        vertical-align: top;\n",
              "    }\n",
              "\n",
              "    .dataframe thead th {\n",
              "        text-align: right;\n",
              "    }\n",
              "</style>\n",
              "<table border=\"1\" class=\"dataframe\">\n",
              "  <thead>\n",
              "    <tr style=\"text-align: right;\">\n",
              "      <th></th>\n",
              "      <th>family_id</th>\n",
              "      <th>sequence_name</th>\n",
              "      <th>family_accession</th>\n",
              "      <th>aligned_sequence</th>\n",
              "      <th>sequence</th>\n",
              "    </tr>\n",
              "  </thead>\n",
              "  <tbody>\n",
              "    <tr>\n",
              "      <th>26</th>\n",
              "      <td>HTH_1</td>\n",
              "      <td>Q2YQJ6_BRUA2/15-73</td>\n",
              "      <td>PF00126.27</td>\n",
              "      <td>.DVLRTFVAIADTG.SFSSAAN.AVFR...TPSAVSMQIKKLEE.Q...</td>\n",
              "      <td>DVLRTFVAIADTGSFSSAANAVFRTPSAVSMQIKKLEEQLGVAVFD...</td>\n",
              "    </tr>\n",
              "    <tr>\n",
              "      <th>48</th>\n",
              "      <td>WD40</td>\n",
              "      <td>SWD3_SCHPO/86-124</td>\n",
              "      <td>PF00400.32</td>\n",
              "      <td>FRLECT..L....F.....GH.....YR............GI...S...</td>\n",
              "      <td>FRLECTLFGHYRGISQVKWATGSKYLASASDDKTIRIWD</td>\n",
              "    </tr>\n",
              "    <tr>\n",
              "      <th>56</th>\n",
              "      <td>Methyltransf_25</td>\n",
              "      <td>K9YKX9_CYASC/84-176</td>\n",
              "      <td>PF13649.6</td>\n",
              "      <td>VLEIGSGR.G...G..GS...FF..IA.KY.......L....S......</td>\n",
              "      <td>VLEIGSGRGGGSFFIAKYLSPQEIIGIDISQENIALSKQLYQLPNL...</td>\n",
              "    </tr>\n",
              "    <tr>\n",
              "      <th>87</th>\n",
              "      <td>Acetyltransf_7</td>\n",
              "      <td>C3MCY4_SINFN/54-142</td>\n",
              "      <td>PF13508.7</td>\n",
              "      <td>END.L..II...................V................A...</td>\n",
              "      <td>ENDLIIVAELEGRIVGLAGLHRHKGRRQHAADLGMSVHDDYRRRGI...</td>\n",
              "    </tr>\n",
              "    <tr>\n",
              "      <th>92</th>\n",
              "      <td>Acetyltransf_7</td>\n",
              "      <td>G8SKR1_ACTS5/49-134</td>\n",
              "      <td>PF13508.7</td>\n",
              "      <td>RTG.L..AW...................V................A...</td>\n",
              "      <td>RTGLAWVAADPDDRPVAYLIADPVDGCLHIEQVSVDRRHARQGLGR...</td>\n",
              "    </tr>\n",
              "    <tr>\n",
              "      <th>102</th>\n",
              "      <td>Ham1p_like</td>\n",
              "      <td>R7G4V4_9PROT/4-189</td>\n",
              "      <td>PF01725.16</td>\n",
              "      <td>LVIASNNKGKIRE...................F.........K......</td>\n",
              "      <td>LVIASNNKGKIREFKEILGEKFEIIPMSEAGFNADVEENGSTFQEN...</td>\n",
              "    </tr>\n",
              "    <tr>\n",
              "      <th>169</th>\n",
              "      <td>Lipase_GDSL_2</td>\n",
              "      <td>Q4K496_PSEF5/169-357</td>\n",
              "      <td>PF13472.6</td>\n",
              "      <td>FVGDS.LMQ.......GVAPH............................</td>\n",
              "      <td>FVGDSLMQGVAPHMANTLRKRYNVKSLNLSKQSTGLAYPSFFNWPK...</td>\n",
              "    </tr>\n",
              "    <tr>\n",
              "      <th>220</th>\n",
              "      <td>Lum_binding</td>\n",
              "      <td>K9Q2U0_9CYAN/101-193</td>\n",
              "      <td>PF00677.17</td>\n",
              "      <td>TGHVDSVGSL.E..KS...VQT.A.........................</td>\n",
              "      <td>TGHVDSVGSLEKSVQTAQAWEMWFTHNRENEDTWWENIAPCLVPKG...</td>\n",
              "    </tr>\n",
              "    <tr>\n",
              "      <th>267</th>\n",
              "      <td>Methyltransf_25</td>\n",
              "      <td>Q5ZSX0_LEGPH/178-272</td>\n",
              "      <td>PF13649.6</td>\n",
              "      <td>VLDIGCGY.G...R..AL...IL..MA.KT.......Y...........</td>\n",
              "      <td>VLDIGCGYGRALILMAKTYPQSQFTGYDLCDETIAHAVHSAKKNKI...</td>\n",
              "    </tr>\n",
              "    <tr>\n",
              "      <th>326</th>\n",
              "      <td>Prenyltransf</td>\n",
              "      <td>H2AM99_KAZAF/73-294</td>\n",
              "      <td>PF01255.19</td>\n",
              "      <td>IMDGNRRFAK..SS....NLSLQR.GHEAGGL....TLLH.....L...</td>\n",
              "      <td>IMDGNRRFAKSSNLSLQRGHEAGGLTLLHLVYICKKLGVKCVSAYA...</td>\n",
              "    </tr>\n",
              "  </tbody>\n",
              "</table>\n",
              "</div>\n",
              "      <button class=\"colab-df-convert\" onclick=\"convertToInteractive('df-7a8bc94c-7dfe-4115-8de0-0460bbfa8a49')\"\n",
              "              title=\"Convert this dataframe to an interactive table.\"\n",
              "              style=\"display:none;\">\n",
              "        \n",
              "  <svg xmlns=\"http://www.w3.org/2000/svg\" height=\"24px\"viewBox=\"0 0 24 24\"\n",
              "       width=\"24px\">\n",
              "    <path d=\"M0 0h24v24H0V0z\" fill=\"none\"/>\n",
              "    <path d=\"M18.56 5.44l.94 2.06.94-2.06 2.06-.94-2.06-.94-.94-2.06-.94 2.06-2.06.94zm-11 1L8.5 8.5l.94-2.06 2.06-.94-2.06-.94L8.5 2.5l-.94 2.06-2.06.94zm10 10l.94 2.06.94-2.06 2.06-.94-2.06-.94-.94-2.06-.94 2.06-2.06.94z\"/><path d=\"M17.41 7.96l-1.37-1.37c-.4-.4-.92-.59-1.43-.59-.52 0-1.04.2-1.43.59L10.3 9.45l-7.72 7.72c-.78.78-.78 2.05 0 2.83L4 21.41c.39.39.9.59 1.41.59.51 0 1.02-.2 1.41-.59l7.78-7.78 2.81-2.81c.8-.78.8-2.07 0-2.86zM5.41 20L4 18.59l7.72-7.72 1.47 1.35L5.41 20z\"/>\n",
              "  </svg>\n",
              "      </button>\n",
              "      \n",
              "  <style>\n",
              "    .colab-df-container {\n",
              "      display:flex;\n",
              "      flex-wrap:wrap;\n",
              "      gap: 12px;\n",
              "    }\n",
              "\n",
              "    .colab-df-convert {\n",
              "      background-color: #E8F0FE;\n",
              "      border: none;\n",
              "      border-radius: 50%;\n",
              "      cursor: pointer;\n",
              "      display: none;\n",
              "      fill: #1967D2;\n",
              "      height: 32px;\n",
              "      padding: 0 0 0 0;\n",
              "      width: 32px;\n",
              "    }\n",
              "\n",
              "    .colab-df-convert:hover {\n",
              "      background-color: #E2EBFA;\n",
              "      box-shadow: 0px 1px 2px rgba(60, 64, 67, 0.3), 0px 1px 3px 1px rgba(60, 64, 67, 0.15);\n",
              "      fill: #174EA6;\n",
              "    }\n",
              "\n",
              "    [theme=dark] .colab-df-convert {\n",
              "      background-color: #3B4455;\n",
              "      fill: #D2E3FC;\n",
              "    }\n",
              "\n",
              "    [theme=dark] .colab-df-convert:hover {\n",
              "      background-color: #434B5C;\n",
              "      box-shadow: 0px 1px 3px 1px rgba(0, 0, 0, 0.15);\n",
              "      filter: drop-shadow(0px 1px 2px rgba(0, 0, 0, 0.3));\n",
              "      fill: #FFFFFF;\n",
              "    }\n",
              "  </style>\n",
              "\n",
              "      <script>\n",
              "        const buttonEl =\n",
              "          document.querySelector('#df-7a8bc94c-7dfe-4115-8de0-0460bbfa8a49 button.colab-df-convert');\n",
              "        buttonEl.style.display =\n",
              "          google.colab.kernel.accessAllowed ? 'block' : 'none';\n",
              "\n",
              "        async function convertToInteractive(key) {\n",
              "          const element = document.querySelector('#df-7a8bc94c-7dfe-4115-8de0-0460bbfa8a49');\n",
              "          const dataTable =\n",
              "            await google.colab.kernel.invokeFunction('convertToInteractive',\n",
              "                                                     [key], {});\n",
              "          if (!dataTable) return;\n",
              "\n",
              "          const docLinkHtml = 'Like what you see? Visit the ' +\n",
              "            '<a target=\"_blank\" href=https://colab.research.google.com/notebooks/data_table.ipynb>data table notebook</a>'\n",
              "            + ' to learn more about interactive tables.';\n",
              "          element.innerHTML = '';\n",
              "          dataTable['output_type'] = 'display_data';\n",
              "          await google.colab.output.renderOutput(dataTable, element);\n",
              "          const docLink = document.createElement('div');\n",
              "          docLink.innerHTML = docLinkHtml;\n",
              "          element.appendChild(docLink);\n",
              "        }\n",
              "      </script>\n",
              "    </div>\n",
              "  </div>\n",
              "  "
            ],
            "text/plain": [
              "           family_id  ...                                           sequence\n",
              "26             HTH_1  ...  DVLRTFVAIADTGSFSSAANAVFRTPSAVSMQIKKLEEQLGVAVFD...\n",
              "48              WD40  ...            FRLECTLFGHYRGISQVKWATGSKYLASASDDKTIRIWD\n",
              "56   Methyltransf_25  ...  VLEIGSGRGGGSFFIAKYLSPQEIIGIDISQENIALSKQLYQLPNL...\n",
              "87    Acetyltransf_7  ...  ENDLIIVAELEGRIVGLAGLHRHKGRRQHAADLGMSVHDDYRRRGI...\n",
              "92    Acetyltransf_7  ...  RTGLAWVAADPDDRPVAYLIADPVDGCLHIEQVSVDRRHARQGLGR...\n",
              "102       Ham1p_like  ...  LVIASNNKGKIREFKEILGEKFEIIPMSEAGFNADVEENGSTFQEN...\n",
              "169    Lipase_GDSL_2  ...  FVGDSLMQGVAPHMANTLRKRYNVKSLNLSKQSTGLAYPSFFNWPK...\n",
              "220      Lum_binding  ...  TGHVDSVGSLEKSVQTAQAWEMWFTHNRENEDTWWENIAPCLVPKG...\n",
              "267  Methyltransf_25  ...  VLDIGCGYGRALILMAKTYPQSQFTGYDLCDETIAHAVHSAKKNKI...\n",
              "326     Prenyltransf  ...  IMDGNRRFAKSSNLSLQRGHEAGGLTLLHLVYICKKLGVKCVSAYA...\n",
              "\n",
              "[10 rows x 5 columns]"
            ]
          },
          "metadata": {},
          "execution_count": 66
        }
      ]
    },
    {
      "cell_type": "markdown",
      "source": [
        "Let's explore the dataset to gather some insights about the data and the classification task. From the dataframe itself, it is important to note two columns:\n",
        "\n",
        "\n",
        "\n",
        "*   **sequence:** containing the sequence of aminoacids determining the domain, it will be used as input to the model for the classification task.\n",
        "*   **family_accession:** label that the model will predict in the multi-label classification setting.\n",
        "\n",
        "\n",
        "\n",
        "---\n",
        "\n",
        "\n",
        "\n",
        "\n",
        "*   Considering that the task involves multi-label classification, we will first investigate the label distribution to account for imbalance in the data.\n",
        "\n",
        "\n"
      ],
      "metadata": {
        "id": "z0Aje6qaQvEO"
      }
    },
    {
      "cell_type": "code",
      "source": [
        "import matplotlib.pyplot as plt\n",
        "import seaborn as sns\n",
        "sns.set_style(\"darkgrid\")\n",
        "\n",
        "def histplot(df, column, title):\n",
        "    \"\"\"\n",
        "    -Description: Bar plot of occurences from a column in a pandas dataframe\n",
        "\n",
        "    @param DataFrame df: dataframe containing the class labels \n",
        "    @param str column: colun to access in the dataframe\n",
        "    @param str title: title of the plot\n",
        "\n",
        "    \"\"\"\n",
        "    plt.figure(figsize=(14, 6))\n",
        "    plt.hist(df[column].value_counts().values , bins = 20 , color = \"lightskyblue\")\n",
        "    plt.title(title)\n",
        "    plt.xlabel(\"Samples per Class\")\n",
        "    plt.ylabel(\"Counts\")\n",
        "    plt.xticks(rotation=45)\n"
      ],
      "metadata": {
        "id": "tDMfNDmtRs03"
      },
      "execution_count": null,
      "outputs": []
    },
    {
      "cell_type": "code",
      "source": [
        "histplot(train , \"family_accession\" , \"Class label counts on training set\")"
      ],
      "metadata": {
        "id": "7rs3XrMtSrMg",
        "colab": {
          "base_uri": "https://localhost:8080/",
          "height": 451
        },
        "outputId": "5ff34de3-f7a2-4ee4-de8f-1c7c9feb5e88"
      },
      "execution_count": null,
      "outputs": [
        {
          "output_type": "display_data",
          "data": {
            "image/png": "[encoded data removed]",
            "text/plain": [
              "<Figure size 1008x432 with 1 Axes>"
            ]
          },
          "metadata": {}
        }
      ]
    },
    {
      "cell_type": "code",
      "source": [
        "histplot(dev , \"family_accession\" , \"Class label counts on dev set\")"
      ],
      "metadata": {
        "id": "vC6j-JWLVaxF",
        "colab": {
          "base_uri": "https://localhost:8080/",
          "height": 444
        },
        "outputId": "dcdca31e-c91a-4c55-86ed-2cecfd3c7bfe"
      },
      "execution_count": null,
      "outputs": [
        {
          "output_type": "display_data",
          "data": {
            "image/png": "[encoded data removed]",
            "text/plain": [
              "<Figure size 1008x432 with 1 Axes>"
            ]
          },
          "metadata": {}
        }
      ]
    },
    {
      "cell_type": "code",
      "source": [
        "histplot(test , \"family_accession\" , \"Class label counts on test set\")"
      ],
      "metadata": {
        "colab": {
          "base_uri": "https://localhost:8080/",
          "height": 444
        },
        "id": "8dVfjDwe1i2f",
        "outputId": "59fa7760-1068-4463-9f5a-35b46af1575e"
      },
      "execution_count": null,
      "outputs": [
        {
          "output_type": "display_data",
          "data": {
            "image/png": "[encoded data removed]",
            "text/plain": [
              "<Figure size 1008x432 with 1 Axes>"
            ]
          },
          "metadata": {}
        }
      ]
    },
    {
      "cell_type": "markdown",
      "source": [
        "The distribution of the classes labels is highly heterogeneous, with some classes overly represented in the dataset while other are barely represented on the training set. \n",
        "\n",
        "This must be taken into account when measuring the accuracy of the model, with the possibility to include a weighting factor as an evaluation metric."
      ],
      "metadata": {
        "id": "WsWyZDrzwfvi"
      }
    },
    {
      "cell_type": "code",
      "source": [
        "def plotChainLength(df , column , title):\n",
        "    \"\"\"\n",
        "    -Description: Plot the distribution of length of the protein sequences\n",
        "\n",
        "    @param DataFrame df: dataframe containing the class labels \n",
        "    @param str column: colun to access in the dataframe\n",
        "    @param str title: title of the plot\n",
        "\n",
        "    \"\"\"\n",
        "    lenSeq = df.apply(lambda row: len(row[column]), axis=1)\n",
        "    sns.kdeplot(data = lenSeq, shade=True , color = \"lightskyblue\")\n",
        "    plt.title(\"Sequence Length Density Distribution in \" + title + \" set\")\n",
        "    plt.xlabel(\"Sequence Length\")\n",
        "    plt.ylabel(\"Density\")\n",
        "    return "
      ],
      "metadata": {
        "id": "_uVo4G8EUBrD"
      },
      "execution_count": null,
      "outputs": []
    },
    {
      "cell_type": "code",
      "source": [
        "plotChainLength(train , \"sequence\" , \"training\")"
      ],
      "metadata": {
        "id": "NN3Z4QNmV_3C",
        "colab": {
          "base_uri": "https://localhost:8080/",
          "height": 427
        },
        "outputId": "c3c271d8-ae67-4ecd-9054-428182020219"
      },
      "execution_count": null,
      "outputs": [
        {
          "output_type": "display_data",
          "data": {
            "image/png": "[encoded data removed]",
            "text/plain": [
              "<Figure size 864x432 with 1 Axes>"
            ]
          },
          "metadata": {}
        }
      ]
    },
    {
      "cell_type": "code",
      "source": [
        "plotChainLength(dev , \"sequence\" , \"dev\")"
      ],
      "metadata": {
        "id": "3aEuB9ctVNC-",
        "colab": {
          "base_uri": "https://localhost:8080/",
          "height": 427
        },
        "outputId": "2b515d0f-3b33-4876-a56d-7b1df19ca1a9"
      },
      "execution_count": null,
      "outputs": [
        {
          "output_type": "display_data",
          "data": {
            "image/png": "[encoded data removed]",
            "text/plain": [
              "<Figure size 864x432 with 1 Axes>"
            ]
          },
          "metadata": {}
        }
      ]
    },
    {
      "cell_type": "code",
      "source": [
        "plotChainLength(test , \"sequence\" , \"test\")"
      ],
      "metadata": {
        "id": "stho0s9OVSlp",
        "colab": {
          "base_uri": "https://localhost:8080/",
          "height": 427
        },
        "outputId": "43ccf3a8-7e91-41ca-b77a-7e3e2d892337"
      },
      "execution_count": null,
      "outputs": [
        {
          "output_type": "display_data",
          "data": {
            "image/png": "[encoded data removed]",
            "text/plain": [
              "<Figure size 864x432 with 1 Axes>"
            ]
          },
          "metadata": {}
        }
      ]
    },
    {
      "cell_type": "markdown",
      "source": [
        "*   Since the problem will require to encode the sequences in some way, it is important to define a **maximum length** for the input. Based on the distribution of characters in all sets, it would be reasonable to have a maximum length set around 200 characters. \n",
        "After running into GPU RAM limitations, it was necessary to reduce the maximum length to 128.\n",
        "*   Another design decision would be to discard long or extremely short sequences, but I will try to show how the proposed models are robust with respect to this type of data.\n",
        "\n"
      ],
      "metadata": {
        "id": "H2cv-UpRoXp3"
      }
    },
    {
      "cell_type": "code",
      "source": [
        "MAX_LEN = 128"
      ],
      "metadata": {
        "id": "tjHmUno5v5yK",
        "execution": {
          "iopub.status.busy": "2022-02-17T23:23:22.063977Z",
          "iopub.execute_input": "2022-02-17T23:23:22.064394Z",
          "iopub.status.idle": "2022-02-17T23:23:22.068259Z",
          "shell.execute_reply.started": "2022-02-17T23:23:22.064342Z",
          "shell.execute_reply": "2022-02-17T23:23:22.067567Z"
        },
        "trusted": true
      },
      "execution_count": null,
      "outputs": []
    },
    {
      "cell_type": "code",
      "source": [
        "from collections import Counter\n",
        "\n",
        "def countAminoacids(df , seqCol):\n",
        "    \"\"\"\n",
        "    -Description: Bar plot of occurences of aminoacids in the training set\n",
        "\n",
        "    @param DataFrame df: dataframe containing the sequences\n",
        "    @param str column: column to access in the dataframe\n",
        "\n",
        "    \"\"\"\n",
        "    counter = Counter(aa for seq in df[seqCol].values.tolist() for aa in seq )\n",
        "    y = [count for tag, count in counter.most_common()]\n",
        "    x = [tag for tag, count in counter.most_common()]\n",
        "    #Obtain values sorted for the bar plot\n",
        "    sns.barplot(x=x,y=y, palette=(\"Blues_d\"))\n",
        "    plt.xlabel(\"Aminoacid counts\")\n",
        "    plt.ylabel(\"Aminoacid codes\")\n",
        "    plt.title(\"Aminoacid Counts in the training set\")\n",
        "    \n",
        "    return "
      ],
      "metadata": {
        "id": "sqgrc9R7WNsi"
      },
      "execution_count": null,
      "outputs": []
    },
    {
      "cell_type": "code",
      "source": [
        "countAminoacids(train , \"sequence\")"
      ],
      "metadata": {
        "id": "GXZTr9-dXS-v",
        "colab": {
          "base_uri": "https://localhost:8080/",
          "height": 427
        },
        "outputId": "68085ec9-6529-4860-a01a-536316d11f33"
      },
      "execution_count": null,
      "outputs": [
        {
          "output_type": "display_data",
          "data": {
            "image/png": "[encoded data removed]",
            "text/plain": [
              "<Figure size 864x432 with 1 Axes>"
            ]
          },
          "metadata": {}
        }
      ]
    },
    {
      "cell_type": "markdown",
      "source": [
        "The occurences of some aminoacids are very limited. This is important to notice and usually in NLP applications the least occuring words are **mapped into a common token**. This is again a design question that I will consider. \n",
        "\n",
        "\n",
        "\n",
        "---\n",
        "\n"
      ],
      "metadata": {
        "id": "39VyBuV54zuW"
      }
    },
    {
      "cell_type": "markdown",
      "source": [
        "# Method Explanation:\n",
        "\n",
        "\n",
        "\n",
        "*   Given the task of multi-class classification, it is necessary to find a model with the right **inductive bias** given the sequential nature of the input data. For this purpose, it is interesting to read recent papers on **NLP**, assuming that those methods that perform well for natural language would work in the case of protein sequences.\n",
        "---\n",
        "The first model that I will implement is based on the work of Jennifer M. Johnson *et al.* (2020) **Journal of Chemical Information and Modeling** : [Deep Dive into Machine Learning for Protein Engineering](https://pubs.acs.org/doi/10.1021/acs.jcim.0c00073).\n",
        "\n",
        "\n",
        "*   The proposed model is a convolutional NN with dense layers on top, with the (1-dimensional) convolutional layers would be able to extract relevant features and learn the underlying patterns present in each protein family. Thus, these features extracted by the first layers would be relevant for the classification layers to perform the task.\n",
        "*   Related to inductive biases, it is important to note how this architecture would be shift invariant (translational invariance), thanks to the max pooling layers as well.\n",
        "\n",
        "![picture](https://drive.google.com/uc?export=view&id=1YCmmJ30kkwD8-h8erAadAK89uBlZVTst)\n",
        "\n",
        "\n",
        "---\n",
        "\n",
        "\n",
        "Given the success of pre-trained models in NLP, my second solution would be geared towards leveraging transfer learning. In particular, I will be using the model from Burkhard Rost *et al.* (2020) **IEEE Transactions on Pattern Analysis and Machine Intelligence** [ProtTrans: Towards Cracking the Language of Life’s Code Through Self-Supervised Learning](https://doi.org/10.1101/2020.07.12.199554). The model hosted on HuggingFace API [ProtBert](https://huggingface.co/Rostlab/prot_bert) was trained on a self-supervised task, namely MLM (Masked-Language Model). \n",
        "\n",
        "\n",
        "\n",
        "*   After downloading the model with the trained parameters, I will add additional layers for the classifier and then **fine-tune** the whole resulting model in our downstream task. \n",
        "*   Pre-training on a MLM objective also allows to learn an internal representation which can be used by the classification layers to incorporate useful features. Transformer-based models capitlize on the **attention mechanism**, such that a certain element of the sequence can attend on another element, thus in a sense it is able to generate contextual embeddings.\n",
        "\n",
        "\n",
        "![picture](https://drive.google.com/uc?export=view&id=15jY6eLQJ_K3nwi_kb5_niNqLPdeXKugz)\n",
        "\n",
        "\n",
        "\n",
        "\n",
        "---\n",
        "\n",
        "\n",
        "It is also important to note how the paper which produced the dataset by *Bileschi et al.* (2019) **BioArxiv** [Can Deep Learning Classify the Protein Universe](https://research.google/pubs/pub48390/#:~:text=Our%20model%20co%2Dlocates%20sequences,purpose%20protein%20function%20prediction%20tools.) is based on a 1-D CNN model as well. "
      ],
      "metadata": {
        "id": "6wLKiWHqZa0m"
      }
    },
    {
      "cell_type": "markdown",
      "source": [
        "# Experiment Description\n",
        "\n",
        "*   The hypothesis that I want to test in this experiment is if fine-tuning a **pre-trained LM on the classification task performs better than convolutional based models**.\n",
        "*   The evaluation metric for this experiment will be accuracy on the hold-out set, the test set. With more domain knowledge it could also be interesting to understand performance for a particularly important class, where more insightful metrics could be employed (Precision, recall and F1 for example). \n",
        "\n"
      ],
      "metadata": {
        "id": "D6Hz7jQCohtB"
      }
    },
    {
      "cell_type": "code",
      "source": [
        "#Slice the datasets such that only relevant columns remain\n",
        "train = train[[\"sequence\" , \"family_accession\"]]\n",
        "dev = dev[[\"sequence\" , \"family_accession\"]]\n",
        "test = test[[\"sequence\" , \"family_accession\"]]"
      ],
      "metadata": {
        "id": "2ML_d4lhYqHh",
        "execution": {
          "iopub.status.busy": "2022-02-17T23:23:27.821202Z",
          "iopub.execute_input": "2022-02-17T23:23:27.821748Z",
          "iopub.status.idle": "2022-02-17T23:23:27.876508Z",
          "shell.execute_reply.started": "2022-02-17T23:23:27.821708Z",
          "shell.execute_reply": "2022-02-17T23:23:27.875626Z"
        },
        "trusted": true
      },
      "execution_count": null,
      "outputs": []
    },
    {
      "cell_type": "markdown",
      "source": [
        "For the CNN model, I will implement the model in Keras, thus it is necessary to convert the target labels into a onehot encoded representation."
      ],
      "metadata": {
        "id": "KdlN2PcPn1Nn"
      }
    },
    {
      "cell_type": "code",
      "source": [
        "from sklearn.preprocessing import OneHotEncoder\n",
        "import numpy as np\n",
        "enc = OneHotEncoder(sparse=False, handle_unknown = 'ignore')\n",
        "y_train = np.expand_dims(train[\"family_accession\"].values, -1)\n",
        "y_dev = np.expand_dims(dev[\"family_accession\"].values, -1)\n",
        "y_test = np.expand_dims(test[\"family_accession\"].values, -1)\n",
        "\n",
        "enc.fit(y_train)\n",
        "\n",
        "y_train = enc.transform(y_train)\n",
        "y_dev = enc.transform(y_dev)\n",
        "y_test = enc.transform(y_test)"
      ],
      "metadata": {
        "id": "e0HU1_8bbWZx"
      },
      "execution_count": null,
      "outputs": []
    },
    {
      "cell_type": "code",
      "source": [
        "import tensorflow as tf\n",
        "from keras.models import Sequential\n",
        "from keras.layers import Dense, Conv1D, MaxPooling1D,AveragePooling1D, Flatten ,Dropout,BatchNormalization\n",
        "from keras.layers.embeddings import Embedding\n",
        "from keras.callbacks import EarlyStopping\n",
        "\n",
        "from keras.preprocessing import text, sequence\n",
        "from keras.preprocessing.text import Tokenizer\n",
        "from sklearn.model_selection import train_test_split"
      ],
      "metadata": {
        "id": "Upb_g_GjSYer"
      },
      "execution_count": null,
      "outputs": []
    },
    {
      "cell_type": "markdown",
      "source": [
        "In order to input the protein sequences, it is necesary to implement a tokenizer to map character occurences into numbers. Then, the sequences which contain less characters than the maximum length, need to be padded to ensure that every data point has the same dimensions."
      ],
      "metadata": {
        "id": "KjkRCE3a6hiQ"
      }
    },
    {
      "cell_type": "code",
      "source": [
        "tokenizer = Tokenizer(char_level=True)\n",
        "tokenizer.fit_on_texts(train[\"sequence\"])\n",
        "#represent input data as word rank number sequences\n",
        "X_train = tokenizer.texts_to_sequences(train[\"sequence\"])\n",
        "X_train = sequence.pad_sequences(X_train, maxlen=MAX_LEN)\n",
        "\n",
        "X_dev = tokenizer.texts_to_sequences(dev[\"sequence\"])\n",
        "X_dev = sequence.pad_sequences(X_dev, maxlen=MAX_LEN)\n",
        "\n",
        "X_test = tokenizer.texts_to_sequences(test[\"sequence\"])\n",
        "X_test = sequence.pad_sequences(X_test, maxlen=MAX_LEN)"
      ],
      "metadata": {
        "id": "hyQ6KnIESwD2"
      },
      "execution_count": null,
      "outputs": []
    },
    {
      "cell_type": "markdown",
      "source": [
        "The first layer of the model is going to be an Embedding layer, which matches every character in our vocabulary into a dense vector. This mapping is also learned as the other parameters in the network, leading to a more appropiate representation where then the convolutional layers can operate. \n",
        "This leads to another design decision, which is the **dimensionality of the embeddings**.\n",
        "In fact, this can be tuned by resorting to the validation set."
      ],
      "metadata": {
        "id": "ILJHyhxD63WH"
      }
    },
    {
      "cell_type": "code",
      "source": [
        "from functools import partial\n",
        "def cnnModel(output_shape , max_len , tokenizer , embedding_dim):\n",
        "        '''\n",
        "        @param int output_shape: output shape corresponding to the number of classes\n",
        "        @param int max_len: maximum length for the sequences\n",
        "        @param Tokenizer: keras tokenizer used as input for the embedding layer\n",
        "        @param int embedding_dim: \n",
        "\n",
        "        @output keras.Sequential model: final model without compulation\n",
        "        '''\n",
        "\n",
        "        model = Sequential([ \n",
        "            Embedding(len(tokenizer.word_index)+1, embedding_dim, input_length=max_len),\n",
        "            Conv1D(filters=4, kernel_size=5, padding='same', activation=partial(tf.nn.leaky_relu, alpha=0.02)),\n",
        "            BatchNormalization(),   \n",
        "            MaxPooling1D(pool_size=2, padding='valid'),\n",
        "            Conv1D(filters=8, kernel_size=3, padding='same', activation=partial(tf.nn.leaky_relu, alpha=0.02)),\n",
        "            BatchNormalization(), \n",
        "            MaxPooling1D(pool_size=2, padding='valid'),\n",
        "            Flatten(),\n",
        "            Dense(16, activation=partial(tf.nn.leaky_relu, alpha=0.02)),\n",
        "            Dropout(.5),\n",
        "            Dense(output_shape, activation='softmax')\n",
        "        ])\n",
        "        return model"
      ],
      "metadata": {
        "id": "pEMqG_G-TTi6"
      },
      "execution_count": null,
      "outputs": []
    },
    {
      "cell_type": "code",
      "source": [
        "EMBED_DIM = 64"
      ],
      "metadata": {
        "id": "TlR61MG-m9Ek"
      },
      "execution_count": null,
      "outputs": []
    },
    {
      "cell_type": "code",
      "source": [
        "cnn_model = cnnModel(NUM_CLASSES , MAX_LEN , tokenizer , EMBED_DIM)\n",
        "cnn_model.compile(loss='categorical_crossentropy', optimizer='adam', metrics=['accuracy'])\n",
        "ES = EarlyStopping(monitor='val_accuracy', verbose=1, patience=3)"
      ],
      "metadata": {
        "id": "e8KiMeC8VCbC"
      },
      "execution_count": null,
      "outputs": []
    },
    {
      "cell_type": "code",
      "source": [
        "print(cnn_model.summary())"
      ],
      "metadata": {
        "id": "PgtjuyIDVprb",
        "colab": {
          "base_uri": "https://localhost:8080/"
        },
        "outputId": "e83aef49-466e-4e65-d02f-cb91c662d815"
      },
      "execution_count": null,
      "outputs": [
        {
          "output_type": "stream",
          "name": "stdout",
          "text": [
            "Model: \"sequential\"\n",
            "_________________________________________________________________\n",
            " Layer (type)                Output Shape              Param #   \n",
            "=================================================================\n",
            " embedding (Embedding)       (None, 128, 64)           1472      \n",
            "                                                                 \n",
            " conv1d (Conv1D)             (None, 128, 4)            1284      \n",
            "                                                                 \n",
            " batch_normalization (BatchN  (None, 128, 4)           16        \n",
            " ormalization)                                                   \n",
            "                                                                 \n",
            " max_pooling1d (MaxPooling1D  (None, 64, 4)            0         \n",
            " )                                                               \n",
            "                                                                 \n",
            " conv1d_1 (Conv1D)           (None, 64, 8)             104       \n",
            "                                                                 \n",
            " batch_normalization_1 (Batc  (None, 64, 8)            32        \n",
            " hNormalization)                                                 \n",
            "                                                                 \n",
            " max_pooling1d_1 (MaxPooling  (None, 32, 8)            0         \n",
            " 1D)                                                             \n",
            "                                                                 \n",
            " flatten (Flatten)           (None, 256)               0         \n",
            "                                                                 \n",
            " dense (Dense)               (None, 16)                4112      \n",
            "                                                                 \n",
            " dropout (Dropout)           (None, 16)                0         \n",
            "                                                                 \n",
            " dense_1 (Dense)             (None, 26)                442       \n",
            "                                                                 \n",
            "=================================================================\n",
            "Total params: 7,462\n",
            "Trainable params: 7,438\n",
            "Non-trainable params: 24\n",
            "_________________________________________________________________\n",
            "None\n"
          ]
        }
      ]
    },
    {
      "cell_type": "code",
      "source": [
        "history = cnn_model.fit(X_train, y_train,  batch_size=128, verbose=1, validation_data = (X_dev , y_dev),callbacks=[ES],epochs=50)"
      ],
      "metadata": {
        "id": "-upIa2DyVkq-",
        "colab": {
          "base_uri": "https://localhost:8080/"
        },
        "outputId": "4402dd80-8647-4df6-e92c-964445fde57f"
      },
      "execution_count": null,
      "outputs": [
        {
          "output_type": "stream",
          "name": "stdout",
          "text": [
            "Epoch 1/50\n",
            "269/269 [==============================] - 15s 15ms/step - loss: 2.3775 - accuracy: 0.3017 - val_loss: 2.5697 - val_accuracy: 0.2990\n",
            "Epoch 2/50\n",
            "269/269 [==============================] - 3s 12ms/step - loss: 1.3316 - accuracy: 0.5732 - val_loss: 0.5474 - val_accuracy: 0.9207\n",
            "Epoch 3/50\n",
            "269/269 [==============================] - 3s 12ms/step - loss: 1.0443 - accuracy: 0.6546 - val_loss: 0.2547 - val_accuracy: 0.9558\n",
            "Epoch 4/50\n",
            "269/269 [==============================] - 3s 12ms/step - loss: 0.9175 - accuracy: 0.6890 - val_loss: 0.2120 - val_accuracy: 0.9546\n",
            "Epoch 5/50\n",
            "269/269 [==============================] - 3s 12ms/step - loss: 0.8557 - accuracy: 0.7041 - val_loss: 0.1423 - val_accuracy: 0.9719\n",
            "Epoch 6/50\n",
            "269/269 [==============================] - 3s 12ms/step - loss: 0.8092 - accuracy: 0.7255 - val_loss: 0.1407 - val_accuracy: 0.9726\n",
            "Epoch 7/50\n",
            "269/269 [==============================] - 3s 12ms/step - loss: 0.7728 - accuracy: 0.7367 - val_loss: 0.1486 - val_accuracy: 0.9673\n",
            "Epoch 8/50\n",
            "269/269 [==============================] - 3s 12ms/step - loss: 0.7470 - accuracy: 0.7490 - val_loss: 0.0997 - val_accuracy: 0.9773\n",
            "Epoch 9/50\n",
            "269/269 [==============================] - 3s 12ms/step - loss: 0.7097 - accuracy: 0.7617 - val_loss: 0.1003 - val_accuracy: 0.9755\n",
            "Epoch 10/50\n",
            "269/269 [==============================] - 3s 12ms/step - loss: 0.6803 - accuracy: 0.7753 - val_loss: 0.1005 - val_accuracy: 0.9745\n",
            "Epoch 11/50\n",
            "269/269 [==============================] - 3s 13ms/step - loss: 0.6543 - accuracy: 0.7855 - val_loss: 0.0909 - val_accuracy: 0.9771\n",
            "Epoch 11: early stopping\n"
          ]
        }
      ]
    },
    {
      "cell_type": "markdown",
      "source": [
        "**Early stopping** is applied based on the loss function evaluated on the validation set, preventing the model from overfitting to the training set. Other hyperparameters of the network can be tuned as well using the validation set."
      ],
      "metadata": {
        "id": "z6ECUJwp8EKx"
      }
    },
    {
      "cell_type": "code",
      "source": [
        "import matplotlib.pyplot as plt\n",
        "import seaborn as sns\n",
        "sns.set_style(\"darkgrid\")"
      ],
      "metadata": {
        "id": "q6IRD6NG680d"
      },
      "execution_count": null,
      "outputs": []
    },
    {
      "cell_type": "code",
      "source": [
        "sns.set(font_scale=1.5)\n",
        "plt.rcParams[\"figure.figsize\"] = (12,6)\n",
        "\n",
        "# Plot the learning curve.\n",
        "plt.plot(history.history[\"accuracy\"], '-o', label=\"Training Accuracy\" , color = \"lightskyblue\")\n",
        "plt.plot(history.history[\"val_accuracy\"], '-o', label=\"Validation Acuracy\" , color = \"indigo\")\n",
        "\n",
        "# Label the plot.\n",
        "plt.title(\"Training & Validation Accuracies\")\n",
        "plt.xlabel(\"Epoch\")\n",
        "plt.ylabel(\"Loss\")\n",
        "plt.legend()\n",
        "plt.xticks(list(range(17)))\n",
        "\n",
        "plt.show()"
      ],
      "metadata": {
        "id": "Zn6T7YTJ8_4e",
        "colab": {
          "base_uri": "https://localhost:8080/",
          "height": 427
        },
        "outputId": "1004dc23-3b09-4ca1-a2cc-8fcea2b7713f"
      },
      "execution_count": null,
      "outputs": [
        {
          "output_type": "display_data",
          "data": {
            "image/png": "[encoded data removed]",
            "text/plain": [
              "<Figure size 864x432 with 1 Axes>"
            ]
          },
          "metadata": {}
        }
      ]
    },
    {
      "cell_type": "code",
      "source": [
        "sns.set(font_scale=1.5)\n",
        "plt.rcParams[\"figure.figsize\"] = (12,6)\n",
        "\n",
        "# Plot the learning curve.\n",
        "plt.plot(history.history[\"loss\"], '-o', label=\"Training Loss\" , color = \"lightskyblue\")\n",
        "plt.plot(history.history[\"val_loss\"], '-o', label=\"Validation Loss\" , color = \"indigo\")\n",
        "\n",
        "# Label the plot.\n",
        "plt.title(\"Training & Validation Losses\")\n",
        "plt.xlabel(\"Epoch\")\n",
        "plt.ylabel(\"Loss\")\n",
        "plt.legend()\n",
        "plt.xticks(list(range(17)))\n",
        "\n",
        "plt.show()"
      ],
      "metadata": {
        "id": "IMPDCOMw9KFz",
        "colab": {
          "base_uri": "https://localhost:8080/",
          "height": 427
        },
        "outputId": "116b00ba-c67c-41c4-c561-efd8040dfbdc"
      },
      "execution_count": null,
      "outputs": [
        {
          "output_type": "display_data",
          "data": {
            "image/png": "[encoded data removed]",
            "text/plain": [
              "<Figure size 864x432 with 1 Axes>"
            ]
          },
          "metadata": {}
        }
      ]
    },
    {
      "cell_type": "code",
      "source": [
        "cnn_eval = cnn_model.evaluate(X_test, y_test)\n",
        "\n",
        "print(\"Test Set Accuracy: {:.2f}\".format(cnn_eval[1]*100))"
      ],
      "metadata": {
        "id": "Yb5uBLSubWcs",
        "colab": {
          "base_uri": "https://localhost:8080/"
        },
        "outputId": "aa028c45-499f-470c-cc71-83f405d78af1"
      },
      "execution_count": null,
      "outputs": [
        {
          "output_type": "stream",
          "name": "stdout",
          "text": [
            "134/134 [==============================] - 1s 8ms/step - loss: 0.1071 - accuracy: 0.9759\n",
            "Test Set Accuracy: 97.59\n"
          ]
        }
      ]
    },
    {
      "cell_type": "markdown",
      "source": [
        "For this second model, I will do the implementation in PyTorch, which would require a different encoding for the labels of the class. "
      ],
      "metadata": {
        "id": "jRHnI90-xYhN"
      }
    },
    {
      "cell_type": "code",
      "source": [
        "from sklearn.preprocessing import LabelEncoder\n",
        "label_encoder = LabelEncoder()\n",
        "label_encoder.fit(train[\"family_accession\"].values)\n",
        "\n",
        "train[\"family_accession\"] = label_encoder.transform(train[\"family_accession\"])\n",
        "dev[\"family_accession\"] = label_encoder.transform(dev[\"family_accession\"])\n",
        "test[\"family_accession\"] = label_encoder.transform(test[\"family_accession\"])"
      ],
      "metadata": {
        "id": "GC9hStKRbGjV",
        "execution": {
          "iopub.status.busy": "2022-02-17T23:23:34.364077Z",
          "iopub.execute_input": "2022-02-17T23:23:34.364356Z",
          "iopub.status.idle": "2022-02-17T23:23:35.198421Z",
          "shell.execute_reply.started": "2022-02-17T23:23:34.364324Z",
          "shell.execute_reply": "2022-02-17T23:23:35.197701Z"
        },
        "trusted": true
      },
      "execution_count": null,
      "outputs": []
    },
    {
      "cell_type": "markdown",
      "source": [
        "Considering the preprocessing described in [ProtBert](https://huggingface.co/Rostlab/prot_bert) , it is necessary that every character in the sequence is white-space separated, and the less common aminoacids UZOB should be mapped to X as input for the tokenizer."
      ],
      "metadata": {
        "id": "1zDx8RynxjfZ"
      }
    },
    {
      "cell_type": "code",
      "source": [
        "import re\n",
        "train[\"sequence\"] = train[\"sequence\"].apply(lambda x : \" \".join(x))\n",
        "dev[\"sequence\"] = dev[\"sequence\"].apply(lambda x : \" \".join(x))\n",
        "test[\"sequence\"] = test[\"sequence\"].apply(lambda x : \" \".join(x))\n",
        "train[\"sequence\"] = list(map(lambda seq : re.sub(r\"[UZOB]\", \"X\", seq ) , train[\"sequence\"].values.tolist()))\n",
        "\n",
        "dev[\"sequence\"] = list(map(lambda seq : re.sub(r\"[UZOB]\", \"X\", seq ) , dev[\"sequence\"].values.tolist()))\n",
        "\n",
        "test[\"sequence\"] = list(map(lambda seq : re.sub(r\"[UZOB]\", \"X\", seq ) , test[\"sequence\"].values.tolist()))"
      ],
      "metadata": {
        "id": "el48vJhfZFBU",
        "execution": {
          "iopub.status.busy": "2022-02-17T23:23:36.102484Z",
          "iopub.execute_input": "2022-02-17T23:23:36.103116Z",
          "iopub.status.idle": "2022-02-17T23:23:36.482869Z",
          "shell.execute_reply.started": "2022-02-17T23:23:36.103079Z",
          "shell.execute_reply": "2022-02-17T23:23:36.482147Z"
        },
        "trusted": true
      },
      "execution_count": null,
      "outputs": []
    },
    {
      "cell_type": "code",
      "source": [
        "#Checking the result of the preprocessing stage\n",
        "train.iloc[0].sequence"
      ],
      "metadata": {
        "id": "5kyWir6kYY9c"
      },
      "execution_count": null,
      "outputs": []
    },
    {
      "cell_type": "code",
      "source": [
        "!pip install transformers"
      ],
      "metadata": {
        "id": "tMkSnh0zaF8J",
        "execution": {
          "iopub.status.busy": "2022-02-17T23:23:39.125823Z",
          "iopub.execute_input": "2022-02-17T23:23:39.126080Z",
          "iopub.status.idle": "2022-02-17T23:23:47.704179Z",
          "shell.execute_reply.started": "2022-02-17T23:23:39.126051Z",
          "shell.execute_reply": "2022-02-17T23:23:47.703349Z"
        },
        "trusted": true
      },
      "execution_count": null,
      "outputs": []
    },
    {
      "cell_type": "code",
      "source": [
        "from transformers import BertModel, BertTokenizer\n",
        "tokenizer = BertTokenizer.from_pretrained(\"Rostlab/prot_bert\", do_lower_case=False )\n",
        "pretrained_model = BertModel.from_pretrained(\"Rostlab/prot_bert\")"
      ],
      "metadata": {
        "id": "KPV7JzziaC0d",
        "outputId": "4ffdb134-4297-4fb8-a133-a43fa4c8fd26",
        "execution": {
          "iopub.status.busy": "2022-02-17T23:23:47.706448Z",
          "iopub.execute_input": "2022-02-17T23:23:47.706739Z",
          "iopub.status.idle": "2022-02-17T23:24:38.659766Z",
          "shell.execute_reply.started": "2022-02-17T23:23:47.706704Z",
          "shell.execute_reply": "2022-02-17T23:24:38.658996Z"
        },
        "trusted": true,
        "colab": {
          "base_uri": "https://localhost:8080/",
          "height": 251,
          "referenced_widgets": [
            "9665ca77c3194922a026ff34229969cf",
            "12c55eb9cd7043779fa73b3ca4c59853",
            "27dda3640926454ebbaf6b4c75fd527e",
            "57e9f76e59ea4a728a8c3cd5698131b7",
            "7d26c5f48d3d405ca85b85ac9b4c51b4",
            "929374a66d794f0facc166d5fda58a4b",
            "e108e4b0f8804ada96e8b837cf8f6989",
            "731c3767a9e74856a4b8110955ff7878",
            "28c7d1af50484bb4bdf9e32435666a70",
            "2174ad9564084f6487265c80ef463e5b",
            "7a626a9c9fa04b96b62b550cb008119d",
            "f63d5d8f8efc4b2594dafb6bb46a694a",
            "083ab680dae645b4993b4d47e4337117",
            "1f689d10cdaf430bb60421c6ba514769",
            "7ed9f595c03c40b5916282928c0aa7a0",
            "f22e7f71b3324fe8974eae6507d34a60",
            "5da1828804624d79b6f38e777a0e4473",
            "be3498de053d47fdb255f00ec3f8e23a",
            "80daef55c452484c804f46f8e818a467",
            "a4544f1a14c34d24875799ff253288a6",
            "33909405108845f98e7e34a5b5a26172",
            "2f83b47c9ea640c39a443f70d72ab6a7",
            "1c9aeb9510ed42babd7cc181bc1c2e1e",
            "4a5a8270efd747ada938646da50404ef",
            "ccc927c4e59044be8dd01c8bb709361e",
            "b4b367b2d0bd4e989754588f7d5280aa",
            "8da64c31495045d0a34cab69614619cc",
            "b95308c6445c45e4b05bd5195b615805",
            "ec9b284a48034eb0b5aa7ed7cd724321",
            "d49a09ae993844c6a254465c80ce3f45",
            "c0a23e15932b47e794ce2c6da43f63af",
            "e404998de5014b8f9bc0fca415f9ac81",
            "4e53920906bd4a36ad5c47d5b0bfef11",
            "3be5e9bf107b4b3c838c4c1ec178fef7",
            "f785d264b12843daa3389fb532ed571b",
            "3313aca3c1c448cd8bab6e35d460a827",
            "4c259618846d4c71bfcaedbb8a1df884",
            "531280b73a954f5d891c28b0dcbdde5a",
            "1d617358d87648f3bc1ea89e28386128",
            "130d5fc49b4f4ebe99467120280b977d",
            "e7a32c3559fb4d80bdda881e8f3af906",
            "8d9cefd9e9e64659b9222fd81b9d28c0",
            "d69162b4a1534a15b70d5753bc68a834",
            "3fbb3e490b5440279f5e796f3f01f451",
            "c9ccd2bbeadc486bb6ce728a48b05680",
            "81788b1f4b644908b5f8928069f51dd4",
            "04dedcc60efb4605b24fb8191dc4fd50",
            "c21decc775da470b995d5e025d6e4fb8",
            "029bbc7f7c4a48f8ad9cc4ccca0a8a10",
            "bc9ea8941b0248dc84a191f020934914",
            "8de2c09232544678b25c24bff32c6e53",
            "002f0156251c454c9f05f4a2d0e43091",
            "f1e8ab181ba64d14b117d19bef20954f",
            "614d238395284901be418686d1eaedc3",
            "6fcaa36637c6450c8dba1dbe2cef05a1"
          ]
        }
      },
      "execution_count": null,
      "outputs": [
        {
          "output_type": "display_data",
          "data": {
            "application/vnd.jupyter.widget-view+json": {
              "model_id": "9665ca77c3194922a026ff34229969cf",
              "version_minor": 0,
              "version_major": 2
            },
            "text/plain": [
              "Downloading:   0%|          | 0.00/86.0 [00:00<?, ?B/s]"
            ]
          },
          "metadata": {}
        },
        {
          "output_type": "display_data",
          "data": {
            "application/vnd.jupyter.widget-view+json": {
              "model_id": "f63d5d8f8efc4b2594dafb6bb46a694a",
              "version_minor": 0,
              "version_major": 2
            },
            "text/plain": [
              "Downloading:   0%|          | 0.00/81.0 [00:00<?, ?B/s]"
            ]
          },
          "metadata": {}
        },
        {
          "output_type": "display_data",
          "data": {
            "application/vnd.jupyter.widget-view+json": {
              "model_id": "1c9aeb9510ed42babd7cc181bc1c2e1e",
              "version_minor": 0,
              "version_major": 2
            },
            "text/plain": [
              "Downloading:   0%|          | 0.00/112 [00:00<?, ?B/s]"
            ]
          },
          "metadata": {}
        },
        {
          "output_type": "display_data",
          "data": {
            "application/vnd.jupyter.widget-view+json": {
              "model_id": "3be5e9bf107b4b3c838c4c1ec178fef7",
              "version_minor": 0,
              "version_major": 2
            },
            "text/plain": [
              "Downloading:   0%|          | 0.00/361 [00:00<?, ?B/s]"
            ]
          },
          "metadata": {}
        },
        {
          "output_type": "display_data",
          "data": {
            "application/vnd.jupyter.widget-view+json": {
              "model_id": "c9ccd2bbeadc486bb6ce728a48b05680",
              "version_minor": 0,
              "version_major": 2
            },
            "text/plain": [
              "Downloading:   0%|          | 0.00/1.57G [00:00<?, ?B/s]"
            ]
          },
          "metadata": {}
        },
        {
          "output_type": "stream",
          "name": "stderr",
          "text": [
            "Some weights of the model checkpoint at Rostlab/prot_bert were not used when initializing BertModel: ['cls.predictions.decoder.weight', 'cls.predictions.transform.dense.weight', 'cls.seq_relationship.weight', 'cls.predictions.transform.LayerNorm.bias', 'cls.predictions.transform.LayerNorm.weight', 'cls.predictions.decoder.bias', 'cls.seq_relationship.bias', 'cls.predictions.bias', 'cls.predictions.transform.dense.bias']\n",
            "- This IS expected if you are initializing BertModel from the checkpoint of a model trained on another task or with another architecture (e.g. initializing a BertForSequenceClassification model from a BertForPreTraining model).\n",
            "- This IS NOT expected if you are initializing BertModel from the checkpoint of a model that you expect to be exactly identical (initializing a BertForSequenceClassification model from a BertForSequenceClassification model).\n"
          ]
        }
      ]
    },
    {
      "cell_type": "code",
      "source": [
        "import torch\n",
        "import numpy as np\n",
        "from torch import nn\n",
        "import torch.utils.data\n",
        "import torch.utils.data.distributed\n",
        "from torch.utils.data import Dataset, DataLoader, RandomSampler, TensorDataset\n",
        "\n",
        "class proteinDataset(Dataset):\n",
        "    def __init__(self, sequence, targets, tokenizer, max_len):\n",
        "        '''\n",
        "        @param list[str] sequence: protein sequence\n",
        "        @param list[str] targets: list containing the labels\n",
        "        @param custom tokenizer: huggingface tokenizer\n",
        "        @param int max_len: maximum length to truncate the sequences \n",
        "        '''\n",
        "        self.sequence = sequence\n",
        "        self.targets = targets\n",
        "        self.tokenizer = tokenizer\n",
        "        self.max_len = max_len\n",
        "    def __len__(self):\n",
        "        return len(self.sequence)\n",
        "\n",
        "    def __getitem__(self, item):\n",
        "        sequence = str(self.sequence[item])\n",
        "        target = self.targets[item]\n",
        "        encoding = self.tokenizer.encode_plus(\n",
        "            sequence,\n",
        "            truncation=True,\n",
        "            add_special_tokens=True,\n",
        "            max_length=self.max_len,\n",
        "            return_token_type_ids=False,\n",
        "            padding='max_length',\n",
        "            return_attention_mask=True,\n",
        "            return_tensors='pt',\n",
        "        )\n",
        "        return {\n",
        "          'protein_sequence': sequence,\n",
        "          'input_ids': encoding['input_ids'].flatten(),\n",
        "          'attention_mask': encoding['attention_mask'].flatten(),\n",
        "          'target': torch.tensor(target, dtype=torch.long)\n",
        "        }"
      ],
      "metadata": {
        "id": "fsEw2zESYgoR",
        "execution": {
          "iopub.status.busy": "2022-02-17T23:24:38.661276Z",
          "iopub.execute_input": "2022-02-17T23:24:38.661557Z",
          "iopub.status.idle": "2022-02-17T23:24:38.674684Z",
          "shell.execute_reply.started": "2022-02-17T23:24:38.661519Z",
          "shell.execute_reply": "2022-02-17T23:24:38.670281Z"
        },
        "trusted": true
      },
      "execution_count": null,
      "outputs": []
    },
    {
      "cell_type": "code",
      "source": [
        "train_set = proteinDataset(train[\"sequence\"].values.tolist() , train[\"family_accession\"].values.tolist() , tokenizer , MAX_LEN)\n",
        "dev_set = proteinDataset(dev[\"sequence\"].values.tolist() , dev[\"family_accession\"].values.tolist() , tokenizer , MAX_LEN)\n",
        "test_set = proteinDataset(test[\"sequence\"].values.tolist() , test[\"family_accession\"].values.tolist() , tokenizer , MAX_LEN)"
      ],
      "metadata": {
        "id": "GWI9g_rjZVxC",
        "execution": {
          "iopub.status.busy": "2022-02-17T23:24:38.676496Z",
          "iopub.execute_input": "2022-02-17T23:24:38.676956Z",
          "iopub.status.idle": "2022-02-17T23:24:43.240237Z",
          "shell.execute_reply.started": "2022-02-17T23:24:38.676918Z",
          "shell.execute_reply": "2022-02-17T23:24:43.239329Z"
        },
        "trusted": true
      },
      "execution_count": null,
      "outputs": []
    },
    {
      "cell_type": "code",
      "source": [
        "class pfamClassifier(nn.Module):\n",
        "    def __init__(self, n_classes , model):\n",
        "        '''\n",
        "        @param int n_classes: number of unique classes present in the dataset\n",
        "        @param custom model: huggingface downloaded model\n",
        "        '''\n",
        "        super().__init__()\n",
        "        self.model = model\n",
        "        self.classifier = nn.Sequential(nn.Dropout(p=0.2),\n",
        "                                        nn.Linear(self.model.config.hidden_size, n_classes),\n",
        "                                        nn.Tanh())\n",
        "        \n",
        "    def forward(self, input_ids, attention_mask):\n",
        "        '''\n",
        "        @param Tensor input_ids: tokenized inputs for the pre-trained model\n",
        "        @param Tensor attention_mask\n",
        "\n",
        "        @out Tensor: output from the classifier\n",
        "        '''\n",
        "        output = self.model(\n",
        "          input_ids=input_ids,\n",
        "          attention_mask=attention_mask\n",
        "        )\n",
        "        return self.classifier(output.pooler_output)"
      ],
      "metadata": {
        "id": "ukzv0k-sZxoR",
        "execution": {
          "iopub.status.busy": "2022-02-17T23:24:43.241415Z",
          "iopub.execute_input": "2022-02-17T23:24:43.244426Z",
          "iopub.status.idle": "2022-02-17T23:24:43.252129Z",
          "shell.execute_reply.started": "2022-02-17T23:24:43.244384Z",
          "shell.execute_reply": "2022-02-17T23:24:43.251449Z"
        },
        "trusted": true
      },
      "execution_count": null,
      "outputs": []
    },
    {
      "cell_type": "code",
      "source": [
        "if torch.cuda.is_available():    \n",
        "\n",
        "    # Tell PyTorch to use the GPU.    \n",
        "    device = torch.device(\"cuda\")\n",
        "\n",
        "    print('There are %d GPU(s) available.' % torch.cuda.device_count())\n",
        "\n",
        "    print('GPU:', torch.cuda.get_device_name(0))\n",
        "else:\n",
        "    device = 'cpu'\n",
        "    print('No GPU available')"
      ],
      "metadata": {
        "id": "ezrrhnR-rwJF",
        "outputId": "889bae1e-da94-4058-d94d-74ce6ca62869",
        "execution": {
          "iopub.status.busy": "2022-02-17T23:24:43.254674Z",
          "iopub.execute_input": "2022-02-17T23:24:43.254898Z",
          "iopub.status.idle": "2022-02-17T23:24:43.308313Z",
          "shell.execute_reply.started": "2022-02-17T23:24:43.254866Z",
          "shell.execute_reply": "2022-02-17T23:24:43.307545Z"
        },
        "trusted": true,
        "colab": {
          "base_uri": "https://localhost:8080/"
        }
      },
      "execution_count": null,
      "outputs": [
        {
          "output_type": "stream",
          "name": "stdout",
          "text": [
            "There are 1 GPU(s) available.\n",
            "GPU: Tesla K80\n"
          ]
        }
      ]
    },
    {
      "cell_type": "code",
      "source": [
        "model = pfamClassifier(NUM_CLASSES ,  pretrained_model)\n",
        "model.to(device)"
      ],
      "metadata": {
        "id": "dkjkjYOCaNlC",
        "outputId": "c92e4cd8-16d5-4ba2-86fb-1a554f81ed2f",
        "execution": {
          "iopub.status.busy": "2022-02-17T23:24:43.310013Z",
          "iopub.execute_input": "2022-02-17T23:24:43.310350Z",
          "iopub.status.idle": "2022-02-17T23:24:46.575745Z",
          "shell.execute_reply.started": "2022-02-17T23:24:43.310281Z",
          "shell.execute_reply": "2022-02-17T23:24:46.573176Z"
        },
        "trusted": true,
        "colab": {
          "base_uri": "https://localhost:8080/"
        }
      },
      "execution_count": null,
      "outputs": [
        {
          "output_type": "execute_result",
          "data": {
            "text/plain": [
              "pfamClassifier(\n",
              "  (model): BertModel(\n",
              "    (embeddings): BertEmbeddings(\n",
              "      (word_embeddings): Embedding(30, 1024, padding_idx=0)\n",
              "      (position_embeddings): Embedding(40000, 1024)\n",
              "      (token_type_embeddings): Embedding(2, 1024)\n",
              "      (LayerNorm): LayerNorm((1024,), eps=1e-12, elementwise_affine=True)\n",
              "      (dropout): Dropout(p=0.0, inplace=False)\n",
              "    )\n",
              "    (encoder): BertEncoder(\n",
              "      (layer): ModuleList(\n",
              "        (0): BertLayer(\n",
              "          (attention): BertAttention(\n",
              "            (self): BertSelfAttention(\n",
              "              (query): Linear(in_features=1024, out_features=1024, bias=True)\n",
              "              (key): Linear(in_features=1024, out_features=1024, bias=True)\n",
              "              (value): Linear(in_features=1024, out_features=1024, bias=True)\n",
              "              (dropout): Dropout(p=0.0, inplace=False)\n",
              "            )\n",
              "            (output): BertSelfOutput(\n",
              "              (dense): Linear(in_features=1024, out_features=1024, bias=True)\n",
              "              (LayerNorm): LayerNorm((1024,), eps=1e-12, elementwise_affine=True)\n",
              "              (dropout): Dropout(p=0.0, inplace=False)\n",
              "            )\n",
              "          )\n",
              "          (intermediate): BertIntermediate(\n",
              "            (dense): Linear(in_features=1024, out_features=4096, bias=True)\n",
              "          )\n",
              "          (output): BertOutput(\n",
              "            (dense): Linear(in_features=4096, out_features=1024, bias=True)\n",
              "            (LayerNorm): LayerNorm((1024,), eps=1e-12, elementwise_affine=True)\n",
              "            (dropout): Dropout(p=0.0, inplace=False)\n",
              "          )\n",
              "        )\n",
              "        (1): BertLayer(\n",
              "          (attention): BertAttention(\n",
              "            (self): BertSelfAttention(\n",
              "              (query): Linear(in_features=1024, out_features=1024, bias=True)\n",
              "              (key): Linear(in_features=1024, out_features=1024, bias=True)\n",
              "              (value): Linear(in_features=1024, out_features=1024, bias=True)\n",
              "              (dropout): Dropout(p=0.0, inplace=False)\n",
              "            )\n",
              "            (output): BertSelfOutput(\n",
              "              (dense): Linear(in_features=1024, out_features=1024, bias=True)\n",
              "              (LayerNorm): LayerNorm((1024,), eps=1e-12, elementwise_affine=True)\n",
              "              (dropout): Dropout(p=0.0, inplace=False)\n",
              "            )\n",
              "          )\n",
              "          (intermediate): BertIntermediate(\n",
              "            (dense): Linear(in_features=1024, out_features=4096, bias=True)\n",
              "          )\n",
              "          (output): BertOutput(\n",
              "            (dense): Linear(in_features=4096, out_features=1024, bias=True)\n",
              "            (LayerNorm): LayerNorm((1024,), eps=1e-12, elementwise_affine=True)\n",
              "            (dropout): Dropout(p=0.0, inplace=False)\n",
              "          )\n",
              "        )\n",
              "        (2): BertLayer(\n",
              "          (attention): BertAttention(\n",
              "            (self): BertSelfAttention(\n",
              "              (query): Linear(in_features=1024, out_features=1024, bias=True)\n",
              "              (key): Linear(in_features=1024, out_features=1024, bias=True)\n",
              "              (value): Linear(in_features=1024, out_features=1024, bias=True)\n",
              "              (dropout): Dropout(p=0.0, inplace=False)\n",
              "            )\n",
              "            (output): BertSelfOutput(\n",
              "              (dense): Linear(in_features=1024, out_features=1024, bias=True)\n",
              "              (LayerNorm): LayerNorm((1024,), eps=1e-12, elementwise_affine=True)\n",
              "              (dropout): Dropout(p=0.0, inplace=False)\n",
              "            )\n",
              "          )\n",
              "          (intermediate): BertIntermediate(\n",
              "            (dense): Linear(in_features=1024, out_features=4096, bias=True)\n",
              "          )\n",
              "          (output): BertOutput(\n",
              "            (dense): Linear(in_features=4096, out_features=1024, bias=True)\n",
              "            (LayerNorm): LayerNorm((1024,), eps=1e-12, elementwise_affine=True)\n",
              "            (dropout): Dropout(p=0.0, inplace=False)\n",
              "          )\n",
              "        )\n",
              "        (3): BertLayer(\n",
              "          (attention): BertAttention(\n",
              "            (self): BertSelfAttention(\n",
              "              (query): Linear(in_features=1024, out_features=1024, bias=True)\n",
              "              (key): Linear(in_features=1024, out_features=1024, bias=True)\n",
              "              (value): Linear(in_features=1024, out_features=1024, bias=True)\n",
              "              (dropout): Dropout(p=0.0, inplace=False)\n",
              "            )\n",
              "            (output): BertSelfOutput(\n",
              "              (dense): Linear(in_features=1024, out_features=1024, bias=True)\n",
              "              (LayerNorm): LayerNorm((1024,), eps=1e-12, elementwise_affine=True)\n",
              "              (dropout): Dropout(p=0.0, inplace=False)\n",
              "            )\n",
              "          )\n",
              "          (intermediate): BertIntermediate(\n",
              "            (dense): Linear(in_features=1024, out_features=4096, bias=True)\n",
              "          )\n",
              "          (output): BertOutput(\n",
              "            (dense): Linear(in_features=4096, out_features=1024, bias=True)\n",
              "            (LayerNorm): LayerNorm((1024,), eps=1e-12, elementwise_affine=True)\n",
              "            (dropout): Dropout(p=0.0, inplace=False)\n",
              "          )\n",
              "        )\n",
              "        (4): BertLayer(\n",
              "          (attention): BertAttention(\n",
              "            (self): BertSelfAttention(\n",
              "              (query): Linear(in_features=1024, out_features=1024, bias=True)\n",
              "              (key): Linear(in_features=1024, out_features=1024, bias=True)\n",
              "              (value): Linear(in_features=1024, out_features=1024, bias=True)\n",
              "              (dropout): Dropout(p=0.0, inplace=False)\n",
              "            )\n",
              "            (output): BertSelfOutput(\n",
              "              (dense): Linear(in_features=1024, out_features=1024, bias=True)\n",
              "              (LayerNorm): LayerNorm((1024,), eps=1e-12, elementwise_affine=True)\n",
              "              (dropout): Dropout(p=0.0, inplace=False)\n",
              "            )\n",
              "          )\n",
              "          (intermediate): BertIntermediate(\n",
              "            (dense): Linear(in_features=1024, out_features=4096, bias=True)\n",
              "          )\n",
              "          (output): BertOutput(\n",
              "            (dense): Linear(in_features=4096, out_features=1024, bias=True)\n",
              "            (LayerNorm): LayerNorm((1024,), eps=1e-12, elementwise_affine=True)\n",
              "            (dropout): Dropout(p=0.0, inplace=False)\n",
              "          )\n",
              "        )\n",
              "        (5): BertLayer(\n",
              "          (attention): BertAttention(\n",
              "            (self): BertSelfAttention(\n",
              "              (query): Linear(in_features=1024, out_features=1024, bias=True)\n",
              "              (key): Linear(in_features=1024, out_features=1024, bias=True)\n",
              "              (value): Linear(in_features=1024, out_features=1024, bias=True)\n",
              "              (dropout): Dropout(p=0.0, inplace=False)\n",
              "            )\n",
              "            (output): BertSelfOutput(\n",
              "              (dense): Linear(in_features=1024, out_features=1024, bias=True)\n",
              "              (LayerNorm): LayerNorm((1024,), eps=1e-12, elementwise_affine=True)\n",
              "              (dropout): Dropout(p=0.0, inplace=False)\n",
              "            )\n",
              "          )\n",
              "          (intermediate): BertIntermediate(\n",
              "            (dense): Linear(in_features=1024, out_features=4096, bias=True)\n",
              "          )\n",
              "          (output): BertOutput(\n",
              "            (dense): Linear(in_features=4096, out_features=1024, bias=True)\n",
              "            (LayerNorm): LayerNorm((1024,), eps=1e-12, elementwise_affine=True)\n",
              "            (dropout): Dropout(p=0.0, inplace=False)\n",
              "          )\n",
              "        )\n",
              "        (6): BertLayer(\n",
              "          (attention): BertAttention(\n",
              "            (self): BertSelfAttention(\n",
              "              (query): Linear(in_features=1024, out_features=1024, bias=True)\n",
              "              (key): Linear(in_features=1024, out_features=1024, bias=True)\n",
              "              (value): Linear(in_features=1024, out_features=1024, bias=True)\n",
              "              (dropout): Dropout(p=0.0, inplace=False)\n",
              "            )\n",
              "            (output): BertSelfOutput(\n",
              "              (dense): Linear(in_features=1024, out_features=1024, bias=True)\n",
              "              (LayerNorm): LayerNorm((1024,), eps=1e-12, elementwise_affine=True)\n",
              "              (dropout): Dropout(p=0.0, inplace=False)\n",
              "            )\n",
              "          )\n",
              "          (intermediate): BertIntermediate(\n",
              "            (dense): Linear(in_features=1024, out_features=4096, bias=True)\n",
              "          )\n",
              "          (output): BertOutput(\n",
              "            (dense): Linear(in_features=4096, out_features=1024, bias=True)\n",
              "            (LayerNorm): LayerNorm((1024,), eps=1e-12, elementwise_affine=True)\n",
              "            (dropout): Dropout(p=0.0, inplace=False)\n",
              "          )\n",
              "        )\n",
              "        (7): BertLayer(\n",
              "          (attention): BertAttention(\n",
              "            (self): BertSelfAttention(\n",
              "              (query): Linear(in_features=1024, out_features=1024, bias=True)\n",
              "              (key): Linear(in_features=1024, out_features=1024, bias=True)\n",
              "              (value): Linear(in_features=1024, out_features=1024, bias=True)\n",
              "              (dropout): Dropout(p=0.0, inplace=False)\n",
              "            )\n",
              "            (output): BertSelfOutput(\n",
              "              (dense): Linear(in_features=1024, out_features=1024, bias=True)\n",
              "              (LayerNorm): LayerNorm((1024,), eps=1e-12, elementwise_affine=True)\n",
              "              (dropout): Dropout(p=0.0, inplace=False)\n",
              "            )\n",
              "          )\n",
              "          (intermediate): BertIntermediate(\n",
              "            (dense): Linear(in_features=1024, out_features=4096, bias=True)\n",
              "          )\n",
              "          (output): BertOutput(\n",
              "            (dense): Linear(in_features=4096, out_features=1024, bias=True)\n",
              "            (LayerNorm): LayerNorm((1024,), eps=1e-12, elementwise_affine=True)\n",
              "            (dropout): Dropout(p=0.0, inplace=False)\n",
              "          )\n",
              "        )\n",
              "        (8): BertLayer(\n",
              "          (attention): BertAttention(\n",
              "            (self): BertSelfAttention(\n",
              "              (query): Linear(in_features=1024, out_features=1024, bias=True)\n",
              "              (key): Linear(in_features=1024, out_features=1024, bias=True)\n",
              "              (value): Linear(in_features=1024, out_features=1024, bias=True)\n",
              "              (dropout): Dropout(p=0.0, inplace=False)\n",
              "            )\n",
              "            (output): BertSelfOutput(\n",
              "              (dense): Linear(in_features=1024, out_features=1024, bias=True)\n",
              "              (LayerNorm): LayerNorm((1024,), eps=1e-12, elementwise_affine=True)\n",
              "              (dropout): Dropout(p=0.0, inplace=False)\n",
              "            )\n",
              "          )\n",
              "          (intermediate): BertIntermediate(\n",
              "            (dense): Linear(in_features=1024, out_features=4096, bias=True)\n",
              "          )\n",
              "          (output): BertOutput(\n",
              "            (dense): Linear(in_features=4096, out_features=1024, bias=True)\n",
              "            (LayerNorm): LayerNorm((1024,), eps=1e-12, elementwise_affine=True)\n",
              "            (dropout): Dropout(p=0.0, inplace=False)\n",
              "          )\n",
              "        )\n",
              "        (9): BertLayer(\n",
              "          (attention): BertAttention(\n",
              "            (self): BertSelfAttention(\n",
              "              (query): Linear(in_features=1024, out_features=1024, bias=True)\n",
              "              (key): Linear(in_features=1024, out_features=1024, bias=True)\n",
              "              (value): Linear(in_features=1024, out_features=1024, bias=True)\n",
              "              (dropout): Dropout(p=0.0, inplace=False)\n",
              "            )\n",
              "            (output): BertSelfOutput(\n",
              "              (dense): Linear(in_features=1024, out_features=1024, bias=True)\n",
              "              (LayerNorm): LayerNorm((1024,), eps=1e-12, elementwise_affine=True)\n",
              "              (dropout): Dropout(p=0.0, inplace=False)\n",
              "            )\n",
              "          )\n",
              "          (intermediate): BertIntermediate(\n",
              "            (dense): Linear(in_features=1024, out_features=4096, bias=True)\n",
              "          )\n",
              "          (output): BertOutput(\n",
              "            (dense): Linear(in_features=4096, out_features=1024, bias=True)\n",
              "            (LayerNorm): LayerNorm((1024,), eps=1e-12, elementwise_affine=True)\n",
              "            (dropout): Dropout(p=0.0, inplace=False)\n",
              "          )\n",
              "        )\n",
              "        (10): BertLayer(\n",
              "          (attention): BertAttention(\n",
              "            (self): BertSelfAttention(\n",
              "              (query): Linear(in_features=1024, out_features=1024, bias=True)\n",
              "              (key): Linear(in_features=1024, out_features=1024, bias=True)\n",
              "              (value): Linear(in_features=1024, out_features=1024, bias=True)\n",
              "              (dropout): Dropout(p=0.0, inplace=False)\n",
              "            )\n",
              "            (output): BertSelfOutput(\n",
              "              (dense): Linear(in_features=1024, out_features=1024, bias=True)\n",
              "              (LayerNorm): LayerNorm((1024,), eps=1e-12, elementwise_affine=True)\n",
              "              (dropout): Dropout(p=0.0, inplace=False)\n",
              "            )\n",
              "          )\n",
              "          (intermediate): BertIntermediate(\n",
              "            (dense): Linear(in_features=1024, out_features=4096, bias=True)\n",
              "          )\n",
              "          (output): BertOutput(\n",
              "            (dense): Linear(in_features=4096, out_features=1024, bias=True)\n",
              "            (LayerNorm): LayerNorm((1024,), eps=1e-12, elementwise_affine=True)\n",
              "            (dropout): Dropout(p=0.0, inplace=False)\n",
              "          )\n",
              "        )\n",
              "        (11): BertLayer(\n",
              "          (attention): BertAttention(\n",
              "            (self): BertSelfAttention(\n",
              "              (query): Linear(in_features=1024, out_features=1024, bias=True)\n",
              "              (key): Linear(in_features=1024, out_features=1024, bias=True)\n",
              "              (value): Linear(in_features=1024, out_features=1024, bias=True)\n",
              "              (dropout): Dropout(p=0.0, inplace=False)\n",
              "            )\n",
              "            (output): BertSelfOutput(\n",
              "              (dense): Linear(in_features=1024, out_features=1024, bias=True)\n",
              "              (LayerNorm): LayerNorm((1024,), eps=1e-12, elementwise_affine=True)\n",
              "              (dropout): Dropout(p=0.0, inplace=False)\n",
              "            )\n",
              "          )\n",
              "          (intermediate): BertIntermediate(\n",
              "            (dense): Linear(in_features=1024, out_features=4096, bias=True)\n",
              "          )\n",
              "          (output): BertOutput(\n",
              "            (dense): Linear(in_features=4096, out_features=1024, bias=True)\n",
              "            (LayerNorm): LayerNorm((1024,), eps=1e-12, elementwise_affine=True)\n",
              "            (dropout): Dropout(p=0.0, inplace=False)\n",
              "          )\n",
              "        )\n",
              "        (12): BertLayer(\n",
              "          (attention): BertAttention(\n",
              "            (self): BertSelfAttention(\n",
              "              (query): Linear(in_features=1024, out_features=1024, bias=True)\n",
              "              (key): Linear(in_features=1024, out_features=1024, bias=True)\n",
              "              (value): Linear(in_features=1024, out_features=1024, bias=True)\n",
              "              (dropout): Dropout(p=0.0, inplace=False)\n",
              "            )\n",
              "            (output): BertSelfOutput(\n",
              "              (dense): Linear(in_features=1024, out_features=1024, bias=True)\n",
              "              (LayerNorm): LayerNorm((1024,), eps=1e-12, elementwise_affine=True)\n",
              "              (dropout): Dropout(p=0.0, inplace=False)\n",
              "            )\n",
              "          )\n",
              "          (intermediate): BertIntermediate(\n",
              "            (dense): Linear(in_features=1024, out_features=4096, bias=True)\n",
              "          )\n",
              "          (output): BertOutput(\n",
              "            (dense): Linear(in_features=4096, out_features=1024, bias=True)\n",
              "            (LayerNorm): LayerNorm((1024,), eps=1e-12, elementwise_affine=True)\n",
              "            (dropout): Dropout(p=0.0, inplace=False)\n",
              "          )\n",
              "        )\n",
              "        (13): BertLayer(\n",
              "          (attention): BertAttention(\n",
              "            (self): BertSelfAttention(\n",
              "              (query): Linear(in_features=1024, out_features=1024, bias=True)\n",
              "              (key): Linear(in_features=1024, out_features=1024, bias=True)\n",
              "              (value): Linear(in_features=1024, out_features=1024, bias=True)\n",
              "              (dropout): Dropout(p=0.0, inplace=False)\n",
              "            )\n",
              "            (output): BertSelfOutput(\n",
              "              (dense): Linear(in_features=1024, out_features=1024, bias=True)\n",
              "              (LayerNorm): LayerNorm((1024,), eps=1e-12, elementwise_affine=True)\n",
              "              (dropout): Dropout(p=0.0, inplace=False)\n",
              "            )\n",
              "          )\n",
              "          (intermediate): BertIntermediate(\n",
              "            (dense): Linear(in_features=1024, out_features=4096, bias=True)\n",
              "          )\n",
              "          (output): BertOutput(\n",
              "            (dense): Linear(in_features=4096, out_features=1024, bias=True)\n",
              "            (LayerNorm): LayerNorm((1024,), eps=1e-12, elementwise_affine=True)\n",
              "            (dropout): Dropout(p=0.0, inplace=False)\n",
              "          )\n",
              "        )\n",
              "        (14): BertLayer(\n",
              "          (attention): BertAttention(\n",
              "            (self): BertSelfAttention(\n",
              "              (query): Linear(in_features=1024, out_features=1024, bias=True)\n",
              "              (key): Linear(in_features=1024, out_features=1024, bias=True)\n",
              "              (value): Linear(in_features=1024, out_features=1024, bias=True)\n",
              "              (dropout): Dropout(p=0.0, inplace=False)\n",
              "            )\n",
              "            (output): BertSelfOutput(\n",
              "              (dense): Linear(in_features=1024, out_features=1024, bias=True)\n",
              "              (LayerNorm): LayerNorm((1024,), eps=1e-12, elementwise_affine=True)\n",
              "              (dropout): Dropout(p=0.0, inplace=False)\n",
              "            )\n",
              "          )\n",
              "          (intermediate): BertIntermediate(\n",
              "            (dense): Linear(in_features=1024, out_features=4096, bias=True)\n",
              "          )\n",
              "          (output): BertOutput(\n",
              "            (dense): Linear(in_features=4096, out_features=1024, bias=True)\n",
              "            (LayerNorm): LayerNorm((1024,), eps=1e-12, elementwise_affine=True)\n",
              "            (dropout): Dropout(p=0.0, inplace=False)\n",
              "          )\n",
              "        )\n",
              "        (15): BertLayer(\n",
              "          (attention): BertAttention(\n",
              "            (self): BertSelfAttention(\n",
              "              (query): Linear(in_features=1024, out_features=1024, bias=True)\n",
              "              (key): Linear(in_features=1024, out_features=1024, bias=True)\n",
              "              (value): Linear(in_features=1024, out_features=1024, bias=True)\n",
              "              (dropout): Dropout(p=0.0, inplace=False)\n",
              "            )\n",
              "            (output): BertSelfOutput(\n",
              "              (dense): Linear(in_features=1024, out_features=1024, bias=True)\n",
              "              (LayerNorm): LayerNorm((1024,), eps=1e-12, elementwise_affine=True)\n",
              "              (dropout): Dropout(p=0.0, inplace=False)\n",
              "            )\n",
              "          )\n",
              "          (intermediate): BertIntermediate(\n",
              "            (dense): Linear(in_features=1024, out_features=4096, bias=True)\n",
              "          )\n",
              "          (output): BertOutput(\n",
              "            (dense): Linear(in_features=4096, out_features=1024, bias=True)\n",
              "            (LayerNorm): LayerNorm((1024,), eps=1e-12, elementwise_affine=True)\n",
              "            (dropout): Dropout(p=0.0, inplace=False)\n",
              "          )\n",
              "        )\n",
              "        (16): BertLayer(\n",
              "          (attention): BertAttention(\n",
              "            (self): BertSelfAttention(\n",
              "              (query): Linear(in_features=1024, out_features=1024, bias=True)\n",
              "              (key): Linear(in_features=1024, out_features=1024, bias=True)\n",
              "              (value): Linear(in_features=1024, out_features=1024, bias=True)\n",
              "              (dropout): Dropout(p=0.0, inplace=False)\n",
              "            )\n",
              "            (output): BertSelfOutput(\n",
              "              (dense): Linear(in_features=1024, out_features=1024, bias=True)\n",
              "              (LayerNorm): LayerNorm((1024,), eps=1e-12, elementwise_affine=True)\n",
              "              (dropout): Dropout(p=0.0, inplace=False)\n",
              "            )\n",
              "          )\n",
              "          (intermediate): BertIntermediate(\n",
              "            (dense): Linear(in_features=1024, out_features=4096, bias=True)\n",
              "          )\n",
              "          (output): BertOutput(\n",
              "            (dense): Linear(in_features=4096, out_features=1024, bias=True)\n",
              "            (LayerNorm): LayerNorm((1024,), eps=1e-12, elementwise_affine=True)\n",
              "            (dropout): Dropout(p=0.0, inplace=False)\n",
              "          )\n",
              "        )\n",
              "        (17): BertLayer(\n",
              "          (attention): BertAttention(\n",
              "            (self): BertSelfAttention(\n",
              "              (query): Linear(in_features=1024, out_features=1024, bias=True)\n",
              "              (key): Linear(in_features=1024, out_features=1024, bias=True)\n",
              "              (value): Linear(in_features=1024, out_features=1024, bias=True)\n",
              "              (dropout): Dropout(p=0.0, inplace=False)\n",
              "            )\n",
              "            (output): BertSelfOutput(\n",
              "              (dense): Linear(in_features=1024, out_features=1024, bias=True)\n",
              "              (LayerNorm): LayerNorm((1024,), eps=1e-12, elementwise_affine=True)\n",
              "              (dropout): Dropout(p=0.0, inplace=False)\n",
              "            )\n",
              "          )\n",
              "          (intermediate): BertIntermediate(\n",
              "            (dense): Linear(in_features=1024, out_features=4096, bias=True)\n",
              "          )\n",
              "          (output): BertOutput(\n",
              "            (dense): Linear(in_features=4096, out_features=1024, bias=True)\n",
              "            (LayerNorm): LayerNorm((1024,), eps=1e-12, elementwise_affine=True)\n",
              "            (dropout): Dropout(p=0.0, inplace=False)\n",
              "          )\n",
              "        )\n",
              "        (18): BertLayer(\n",
              "          (attention): BertAttention(\n",
              "            (self): BertSelfAttention(\n",
              "              (query): Linear(in_features=1024, out_features=1024, bias=True)\n",
              "              (key): Linear(in_features=1024, out_features=1024, bias=True)\n",
              "              (value): Linear(in_features=1024, out_features=1024, bias=True)\n",
              "              (dropout): Dropout(p=0.0, inplace=False)\n",
              "            )\n",
              "            (output): BertSelfOutput(\n",
              "              (dense): Linear(in_features=1024, out_features=1024, bias=True)\n",
              "              (LayerNorm): LayerNorm((1024,), eps=1e-12, elementwise_affine=True)\n",
              "              (dropout): Dropout(p=0.0, inplace=False)\n",
              "            )\n",
              "          )\n",
              "          (intermediate): BertIntermediate(\n",
              "            (dense): Linear(in_features=1024, out_features=4096, bias=True)\n",
              "          )\n",
              "          (output): BertOutput(\n",
              "            (dense): Linear(in_features=4096, out_features=1024, bias=True)\n",
              "            (LayerNorm): LayerNorm((1024,), eps=1e-12, elementwise_affine=True)\n",
              "            (dropout): Dropout(p=0.0, inplace=False)\n",
              "          )\n",
              "        )\n",
              "        (19): BertLayer(\n",
              "          (attention): BertAttention(\n",
              "            (self): BertSelfAttention(\n",
              "              (query): Linear(in_features=1024, out_features=1024, bias=True)\n",
              "              (key): Linear(in_features=1024, out_features=1024, bias=True)\n",
              "              (value): Linear(in_features=1024, out_features=1024, bias=True)\n",
              "              (dropout): Dropout(p=0.0, inplace=False)\n",
              "            )\n",
              "            (output): BertSelfOutput(\n",
              "              (dense): Linear(in_features=1024, out_features=1024, bias=True)\n",
              "              (LayerNorm): LayerNorm((1024,), eps=1e-12, elementwise_affine=True)\n",
              "              (dropout): Dropout(p=0.0, inplace=False)\n",
              "            )\n",
              "          )\n",
              "          (intermediate): BertIntermediate(\n",
              "            (dense): Linear(in_features=1024, out_features=4096, bias=True)\n",
              "          )\n",
              "          (output): BertOutput(\n",
              "            (dense): Linear(in_features=4096, out_features=1024, bias=True)\n",
              "            (LayerNorm): LayerNorm((1024,), eps=1e-12, elementwise_affine=True)\n",
              "            (dropout): Dropout(p=0.0, inplace=False)\n",
              "          )\n",
              "        )\n",
              "        (20): BertLayer(\n",
              "          (attention): BertAttention(\n",
              "            (self): BertSelfAttention(\n",
              "              (query): Linear(in_features=1024, out_features=1024, bias=True)\n",
              "              (key): Linear(in_features=1024, out_features=1024, bias=True)\n",
              "              (value): Linear(in_features=1024, out_features=1024, bias=True)\n",
              "              (dropout): Dropout(p=0.0, inplace=False)\n",
              "            )\n",
              "            (output): BertSelfOutput(\n",
              "              (dense): Linear(in_features=1024, out_features=1024, bias=True)\n",
              "              (LayerNorm): LayerNorm((1024,), eps=1e-12, elementwise_affine=True)\n",
              "              (dropout): Dropout(p=0.0, inplace=False)\n",
              "            )\n",
              "          )\n",
              "          (intermediate): BertIntermediate(\n",
              "            (dense): Linear(in_features=1024, out_features=4096, bias=True)\n",
              "          )\n",
              "          (output): BertOutput(\n",
              "            (dense): Linear(in_features=4096, out_features=1024, bias=True)\n",
              "            (LayerNorm): LayerNorm((1024,), eps=1e-12, elementwise_affine=True)\n",
              "            (dropout): Dropout(p=0.0, inplace=False)\n",
              "          )\n",
              "        )\n",
              "        (21): BertLayer(\n",
              "          (attention): BertAttention(\n",
              "            (self): BertSelfAttention(\n",
              "              (query): Linear(in_features=1024, out_features=1024, bias=True)\n",
              "              (key): Linear(in_features=1024, out_features=1024, bias=True)\n",
              "              (value): Linear(in_features=1024, out_features=1024, bias=True)\n",
              "              (dropout): Dropout(p=0.0, inplace=False)\n",
              "            )\n",
              "            (output): BertSelfOutput(\n",
              "              (dense): Linear(in_features=1024, out_features=1024, bias=True)\n",
              "              (LayerNorm): LayerNorm((1024,), eps=1e-12, elementwise_affine=True)\n",
              "              (dropout): Dropout(p=0.0, inplace=False)\n",
              "            )\n",
              "          )\n",
              "          (intermediate): BertIntermediate(\n",
              "            (dense): Linear(in_features=1024, out_features=4096, bias=True)\n",
              "          )\n",
              "          (output): BertOutput(\n",
              "            (dense): Linear(in_features=4096, out_features=1024, bias=True)\n",
              "            (LayerNorm): LayerNorm((1024,), eps=1e-12, elementwise_affine=True)\n",
              "            (dropout): Dropout(p=0.0, inplace=False)\n",
              "          )\n",
              "        )\n",
              "        (22): BertLayer(\n",
              "          (attention): BertAttention(\n",
              "            (self): BertSelfAttention(\n",
              "              (query): Linear(in_features=1024, out_features=1024, bias=True)\n",
              "              (key): Linear(in_features=1024, out_features=1024, bias=True)\n",
              "              (value): Linear(in_features=1024, out_features=1024, bias=True)\n",
              "              (dropout): Dropout(p=0.0, inplace=False)\n",
              "            )\n",
              "            (output): BertSelfOutput(\n",
              "              (dense): Linear(in_features=1024, out_features=1024, bias=True)\n",
              "              (LayerNorm): LayerNorm((1024,), eps=1e-12, elementwise_affine=True)\n",
              "              (dropout): Dropout(p=0.0, inplace=False)\n",
              "            )\n",
              "          )\n",
              "          (intermediate): BertIntermediate(\n",
              "            (dense): Linear(in_features=1024, out_features=4096, bias=True)\n",
              "          )\n",
              "          (output): BertOutput(\n",
              "            (dense): Linear(in_features=4096, out_features=1024, bias=True)\n",
              "            (LayerNorm): LayerNorm((1024,), eps=1e-12, elementwise_affine=True)\n",
              "            (dropout): Dropout(p=0.0, inplace=False)\n",
              "          )\n",
              "        )\n",
              "        (23): BertLayer(\n",
              "          (attention): BertAttention(\n",
              "            (self): BertSelfAttention(\n",
              "              (query): Linear(in_features=1024, out_features=1024, bias=True)\n",
              "              (key): Linear(in_features=1024, out_features=1024, bias=True)\n",
              "              (value): Linear(in_features=1024, out_features=1024, bias=True)\n",
              "              (dropout): Dropout(p=0.0, inplace=False)\n",
              "            )\n",
              "            (output): BertSelfOutput(\n",
              "              (dense): Linear(in_features=1024, out_features=1024, bias=True)\n",
              "              (LayerNorm): LayerNorm((1024,), eps=1e-12, elementwise_affine=True)\n",
              "              (dropout): Dropout(p=0.0, inplace=False)\n",
              "            )\n",
              "          )\n",
              "          (intermediate): BertIntermediate(\n",
              "            (dense): Linear(in_features=1024, out_features=4096, bias=True)\n",
              "          )\n",
              "          (output): BertOutput(\n",
              "            (dense): Linear(in_features=4096, out_features=1024, bias=True)\n",
              "            (LayerNorm): LayerNorm((1024,), eps=1e-12, elementwise_affine=True)\n",
              "            (dropout): Dropout(p=0.0, inplace=False)\n",
              "          )\n",
              "        )\n",
              "        (24): BertLayer(\n",
              "          (attention): BertAttention(\n",
              "            (self): BertSelfAttention(\n",
              "              (query): Linear(in_features=1024, out_features=1024, bias=True)\n",
              "              (key): Linear(in_features=1024, out_features=1024, bias=True)\n",
              "              (value): Linear(in_features=1024, out_features=1024, bias=True)\n",
              "              (dropout): Dropout(p=0.0, inplace=False)\n",
              "            )\n",
              "            (output): BertSelfOutput(\n",
              "              (dense): Linear(in_features=1024, out_features=1024, bias=True)\n",
              "              (LayerNorm): LayerNorm((1024,), eps=1e-12, elementwise_affine=True)\n",
              "              (dropout): Dropout(p=0.0, inplace=False)\n",
              "            )\n",
              "          )\n",
              "          (intermediate): BertIntermediate(\n",
              "            (dense): Linear(in_features=1024, out_features=4096, bias=True)\n",
              "          )\n",
              "          (output): BertOutput(\n",
              "            (dense): Linear(in_features=4096, out_features=1024, bias=True)\n",
              "            (LayerNorm): LayerNorm((1024,), eps=1e-12, elementwise_affine=True)\n",
              "            (dropout): Dropout(p=0.0, inplace=False)\n",
              "          )\n",
              "        )\n",
              "        (25): BertLayer(\n",
              "          (attention): BertAttention(\n",
              "            (self): BertSelfAttention(\n",
              "              (query): Linear(in_features=1024, out_features=1024, bias=True)\n",
              "              (key): Linear(in_features=1024, out_features=1024, bias=True)\n",
              "              (value): Linear(in_features=1024, out_features=1024, bias=True)\n",
              "              (dropout): Dropout(p=0.0, inplace=False)\n",
              "            )\n",
              "            (output): BertSelfOutput(\n",
              "              (dense): Linear(in_features=1024, out_features=1024, bias=True)\n",
              "              (LayerNorm): LayerNorm((1024,), eps=1e-12, elementwise_affine=True)\n",
              "              (dropout): Dropout(p=0.0, inplace=False)\n",
              "            )\n",
              "          )\n",
              "          (intermediate): BertIntermediate(\n",
              "            (dense): Linear(in_features=1024, out_features=4096, bias=True)\n",
              "          )\n",
              "          (output): BertOutput(\n",
              "            (dense): Linear(in_features=4096, out_features=1024, bias=True)\n",
              "            (LayerNorm): LayerNorm((1024,), eps=1e-12, elementwise_affine=True)\n",
              "            (dropout): Dropout(p=0.0, inplace=False)\n",
              "          )\n",
              "        )\n",
              "        (26): BertLayer(\n",
              "          (attention): BertAttention(\n",
              "            (self): BertSelfAttention(\n",
              "              (query): Linear(in_features=1024, out_features=1024, bias=True)\n",
              "              (key): Linear(in_features=1024, out_features=1024, bias=True)\n",
              "              (value): Linear(in_features=1024, out_features=1024, bias=True)\n",
              "              (dropout): Dropout(p=0.0, inplace=False)\n",
              "            )\n",
              "            (output): BertSelfOutput(\n",
              "              (dense): Linear(in_features=1024, out_features=1024, bias=True)\n",
              "              (LayerNorm): LayerNorm((1024,), eps=1e-12, elementwise_affine=True)\n",
              "              (dropout): Dropout(p=0.0, inplace=False)\n",
              "            )\n",
              "          )\n",
              "          (intermediate): BertIntermediate(\n",
              "            (dense): Linear(in_features=1024, out_features=4096, bias=True)\n",
              "          )\n",
              "          (output): BertOutput(\n",
              "            (dense): Linear(in_features=4096, out_features=1024, bias=True)\n",
              "            (LayerNorm): LayerNorm((1024,), eps=1e-12, elementwise_affine=True)\n",
              "            (dropout): Dropout(p=0.0, inplace=False)\n",
              "          )\n",
              "        )\n",
              "        (27): BertLayer(\n",
              "          (attention): BertAttention(\n",
              "            (self): BertSelfAttention(\n",
              "              (query): Linear(in_features=1024, out_features=1024, bias=True)\n",
              "              (key): Linear(in_features=1024, out_features=1024, bias=True)\n",
              "              (value): Linear(in_features=1024, out_features=1024, bias=True)\n",
              "              (dropout): Dropout(p=0.0, inplace=False)\n",
              "            )\n",
              "            (output): BertSelfOutput(\n",
              "              (dense): Linear(in_features=1024, out_features=1024, bias=True)\n",
              "              (LayerNorm): LayerNorm((1024,), eps=1e-12, elementwise_affine=True)\n",
              "              (dropout): Dropout(p=0.0, inplace=False)\n",
              "            )\n",
              "          )\n",
              "          (intermediate): BertIntermediate(\n",
              "            (dense): Linear(in_features=1024, out_features=4096, bias=True)\n",
              "          )\n",
              "          (output): BertOutput(\n",
              "            (dense): Linear(in_features=4096, out_features=1024, bias=True)\n",
              "            (LayerNorm): LayerNorm((1024,), eps=1e-12, elementwise_affine=True)\n",
              "            (dropout): Dropout(p=0.0, inplace=False)\n",
              "          )\n",
              "        )\n",
              "        (28): BertLayer(\n",
              "          (attention): BertAttention(\n",
              "            (self): BertSelfAttention(\n",
              "              (query): Linear(in_features=1024, out_features=1024, bias=True)\n",
              "              (key): Linear(in_features=1024, out_features=1024, bias=True)\n",
              "              (value): Linear(in_features=1024, out_features=1024, bias=True)\n",
              "              (dropout): Dropout(p=0.0, inplace=False)\n",
              "            )\n",
              "            (output): BertSelfOutput(\n",
              "              (dense): Linear(in_features=1024, out_features=1024, bias=True)\n",
              "              (LayerNorm): LayerNorm((1024,), eps=1e-12, elementwise_affine=True)\n",
              "              (dropout): Dropout(p=0.0, inplace=False)\n",
              "            )\n",
              "          )\n",
              "          (intermediate): BertIntermediate(\n",
              "            (dense): Linear(in_features=1024, out_features=4096, bias=True)\n",
              "          )\n",
              "          (output): BertOutput(\n",
              "            (dense): Linear(in_features=4096, out_features=1024, bias=True)\n",
              "            (LayerNorm): LayerNorm((1024,), eps=1e-12, elementwise_affine=True)\n",
              "            (dropout): Dropout(p=0.0, inplace=False)\n",
              "          )\n",
              "        )\n",
              "        (29): BertLayer(\n",
              "          (attention): BertAttention(\n",
              "            (self): BertSelfAttention(\n",
              "              (query): Linear(in_features=1024, out_features=1024, bias=True)\n",
              "              (key): Linear(in_features=1024, out_features=1024, bias=True)\n",
              "              (value): Linear(in_features=1024, out_features=1024, bias=True)\n",
              "              (dropout): Dropout(p=0.0, inplace=False)\n",
              "            )\n",
              "            (output): BertSelfOutput(\n",
              "              (dense): Linear(in_features=1024, out_features=1024, bias=True)\n",
              "              (LayerNorm): LayerNorm((1024,), eps=1e-12, elementwise_affine=True)\n",
              "              (dropout): Dropout(p=0.0, inplace=False)\n",
              "            )\n",
              "          )\n",
              "          (intermediate): BertIntermediate(\n",
              "            (dense): Linear(in_features=1024, out_features=4096, bias=True)\n",
              "          )\n",
              "          (output): BertOutput(\n",
              "            (dense): Linear(in_features=4096, out_features=1024, bias=True)\n",
              "            (LayerNorm): LayerNorm((1024,), eps=1e-12, elementwise_affine=True)\n",
              "            (dropout): Dropout(p=0.0, inplace=False)\n",
              "          )\n",
              "        )\n",
              "      )\n",
              "    )\n",
              "    (pooler): BertPooler(\n",
              "      (dense): Linear(in_features=1024, out_features=1024, bias=True)\n",
              "      (activation): Tanh()\n",
              "    )\n",
              "  )\n",
              "  (classifier): Sequential(\n",
              "    (0): Dropout(p=0.2, inplace=False)\n",
              "    (1): Linear(in_features=1024, out_features=26, bias=True)\n",
              "    (2): Tanh()\n",
              "  )\n",
              ")"
            ]
          },
          "metadata": {},
          "execution_count": 24
        }
      ]
    },
    {
      "cell_type": "code",
      "source": [
        "params = list(model.named_parameters())\n",
        "\n",
        "print('The pretrained model has {:} different named parameters.\\n'.format(len(params)))\n",
        "\n",
        "print('==== Embedding Layer ====\\n')\n",
        "\n",
        "for p in params[0:5]:\n",
        "    print(\"{:<55} {:>12}\".format(p[0], str(tuple(p[1].size()))))\n",
        "\n",
        "print('\\n==== Pre-trained Layers ====\\n')\n",
        "\n",
        "for p in params[5:21]:\n",
        "    print(\"{:<55} {:>12}\".format(p[0], str(tuple(p[1].size()))))\n",
        "\n",
        "print('\\n==== Output Layer ====\\n')\n",
        "\n",
        "for p in params[-4:]:\n",
        "    print(\"{:<55} {:>12}\".format(p[0], str(tuple(p[1].size()))))"
      ],
      "metadata": {
        "id": "TB0NYio6e88B",
        "outputId": "d39a503c-f1fc-4fd5-9f1d-02f8dadf45fe",
        "execution": {
          "iopub.status.busy": "2022-02-17T23:24:46.580832Z",
          "iopub.execute_input": "2022-02-17T23:24:46.581298Z",
          "iopub.status.idle": "2022-02-17T23:24:46.608630Z",
          "shell.execute_reply.started": "2022-02-17T23:24:46.581255Z",
          "shell.execute_reply": "2022-02-17T23:24:46.607981Z"
        },
        "trusted": true,
        "colab": {
          "base_uri": "https://localhost:8080/"
        }
      },
      "execution_count": null,
      "outputs": [
        {
          "output_type": "stream",
          "name": "stdout",
          "text": [
            "The pretrained model has 489 different named parameters.\n",
            "\n",
            "==== Embedding Layer ====\n",
            "\n",
            "model.embeddings.word_embeddings.weight                   (30, 1024)\n",
            "model.embeddings.position_embeddings.weight             (40000, 1024)\n",
            "model.embeddings.token_type_embeddings.weight              (2, 1024)\n",
            "model.embeddings.LayerNorm.weight                            (1024,)\n",
            "model.embeddings.LayerNorm.bias                              (1024,)\n",
            "\n",
            "==== Pre-trained Layers ====\n",
            "\n",
            "model.encoder.layer.0.attention.self.query.weight       (1024, 1024)\n",
            "model.encoder.layer.0.attention.self.query.bias              (1024,)\n",
            "model.encoder.layer.0.attention.self.key.weight         (1024, 1024)\n",
            "model.encoder.layer.0.attention.self.key.bias                (1024,)\n",
            "model.encoder.layer.0.attention.self.value.weight       (1024, 1024)\n",
            "model.encoder.layer.0.attention.self.value.bias              (1024,)\n",
            "model.encoder.layer.0.attention.output.dense.weight     (1024, 1024)\n",
            "model.encoder.layer.0.attention.output.dense.bias            (1024,)\n",
            "model.encoder.layer.0.attention.output.LayerNorm.weight      (1024,)\n",
            "model.encoder.layer.0.attention.output.LayerNorm.bias        (1024,)\n",
            "model.encoder.layer.0.intermediate.dense.weight         (4096, 1024)\n",
            "model.encoder.layer.0.intermediate.dense.bias                (4096,)\n",
            "model.encoder.layer.0.output.dense.weight               (1024, 4096)\n",
            "model.encoder.layer.0.output.dense.bias                      (1024,)\n",
            "model.encoder.layer.0.output.LayerNorm.weight                (1024,)\n",
            "model.encoder.layer.0.output.LayerNorm.bias                  (1024,)\n",
            "\n",
            "==== Output Layer ====\n",
            "\n",
            "model.pooler.dense.weight                               (1024, 1024)\n",
            "model.pooler.dense.bias                                      (1024,)\n",
            "classifier.1.weight                                       (26, 1024)\n",
            "classifier.1.bias                                              (26,)\n"
          ]
        }
      ]
    },
    {
      "cell_type": "markdown",
      "source": [
        "\n",
        "\n",
        "\n",
        "---\n",
        "\n",
        "\n",
        "*   Epochs: when finetuning a LM, only a few epochs suffice to achieve great performances on a dowstream task. In this case, I will use only 1 due to computational power constraints.\n",
        "*   Learning rate and batch size are crucial hyperparameters when fine-tuning. A large learning rate would cause **catastrophic forgetting** of the weights learned during MLM objective. There are some guidelines on the [Bert Repository](https://github.com/google-research/bert).\n",
        "\n",
        "\n",
        "\n",
        "\n",
        "---\n",
        "\n",
        "\n",
        "\n",
        "\n"
      ],
      "metadata": {
        "id": "8SuvDy2fzF-V"
      }
    },
    {
      "cell_type": "code",
      "source": [
        "EPOCHS = 1\n",
        "BATCH_SIZE = 8\n",
        "LEARNING_RATE = 1e-5\n",
        "output_path = \".\"\n",
        "EVAL_BATCH = 1072\n",
        "#Set a checkpoint to evaluate the model after training on EVAL_BATCH number of batches"
      ],
      "metadata": {
        "id": "xxP2kagmcEvU",
        "execution": {
          "iopub.status.busy": "2022-02-17T23:24:46.611937Z",
          "iopub.execute_input": "2022-02-17T23:24:46.612597Z",
          "iopub.status.idle": "2022-02-17T23:24:46.617306Z",
          "shell.execute_reply.started": "2022-02-17T23:24:46.612503Z",
          "shell.execute_reply": "2022-02-17T23:24:46.616654Z"
        },
        "trusted": true
      },
      "execution_count": null,
      "outputs": []
    },
    {
      "cell_type": "code",
      "source": [
        "train_loader  = DataLoader(dataset = train_set , batch_size = BATCH_SIZE ,drop_last=True)\n",
        "dev_loader = DataLoader(dataset = dev_set , batch_size = BATCH_SIZE  ,drop_last=True)\n",
        "test_loader = DataLoader(dataset = test_set , batch_size = BATCH_SIZE ,drop_last=True)"
      ],
      "metadata": {
        "id": "eYSGDAtWbAib",
        "execution": {
          "iopub.status.busy": "2022-02-17T23:24:46.618750Z",
          "iopub.execute_input": "2022-02-17T23:24:46.619030Z",
          "iopub.status.idle": "2022-02-17T23:24:46.627248Z",
          "shell.execute_reply.started": "2022-02-17T23:24:46.618958Z",
          "shell.execute_reply": "2022-02-17T23:24:46.626584Z"
        },
        "trusted": true
      },
      "execution_count": null,
      "outputs": []
    },
    {
      "cell_type": "code",
      "source": [
        "len(train_loader)"
      ],
      "metadata": {
        "id": "aQS9pB2oa0hd",
        "execution": {
          "iopub.status.busy": "2022-02-17T22:39:32.617314Z",
          "iopub.execute_input": "2022-02-17T22:39:32.617793Z",
          "iopub.status.idle": "2022-02-17T22:39:32.623067Z",
          "shell.execute_reply.started": "2022-02-17T22:39:32.617751Z",
          "shell.execute_reply": "2022-02-17T22:39:32.622330Z"
        },
        "trusted": true
      },
      "execution_count": null,
      "outputs": []
    },
    {
      "cell_type": "code",
      "source": [
        "criterion = nn.CrossEntropyLoss()\n",
        "optimizer = torch.optim.Adam(model.parameters(), lr=LEARNING_RATE)"
      ],
      "metadata": {
        "id": "HbF4a2Hla6-O",
        "execution": {
          "iopub.status.busy": "2022-02-17T23:24:46.628667Z",
          "iopub.execute_input": "2022-02-17T23:24:46.628837Z",
          "iopub.status.idle": "2022-02-17T23:24:46.641557Z",
          "shell.execute_reply.started": "2022-02-17T23:24:46.628816Z",
          "shell.execute_reply": "2022-02-17T23:24:46.640723Z"
        },
        "trusted": true
      },
      "execution_count": null,
      "outputs": []
    },
    {
      "cell_type": "code",
      "source": [
        "from tqdm import tqdm"
      ],
      "metadata": {
        "id": "sFNzL2bKciW5",
        "execution": {
          "iopub.status.busy": "2022-02-17T23:24:46.643379Z",
          "iopub.execute_input": "2022-02-17T23:24:46.643957Z",
          "iopub.status.idle": "2022-02-17T23:24:46.650146Z",
          "shell.execute_reply.started": "2022-02-17T23:24:46.643880Z",
          "shell.execute_reply": "2022-02-17T23:24:46.649440Z"
        },
        "trusted": true
      },
      "execution_count": null,
      "outputs": []
    },
    {
      "cell_type": "code",
      "source": [
        "def multi_acc(y_pred, y_test):\n",
        "    '''\n",
        "    @param Tensor y_pred: tensor containig the actual labels \n",
        "    @param Tensor y_test: output from the model, it is still necessary to convert those into a probability via softmax.\n",
        "\n",
        "    @output Float acc: accuracy on the batch\n",
        "    '''\n",
        "    \n",
        "    y_pred_softmax = torch.log_softmax(y_pred, dim = 1)\n",
        "    _, y_pred_tags = torch.max(y_pred_softmax, dim = 1)    \n",
        "    correct_pred = (y_pred_tags == y_test).int()\n",
        "    acc = correct_pred.sum()*1.0 / len(correct_pred)*100\n",
        "    return acc"
      ],
      "metadata": {
        "id": "aYh7Y51JgN0T",
        "execution": {
          "iopub.status.busy": "2022-02-17T23:24:46.651531Z",
          "iopub.execute_input": "2022-02-17T23:24:46.651793Z",
          "iopub.status.idle": "2022-02-17T23:24:46.659692Z",
          "shell.execute_reply.started": "2022-02-17T23:24:46.651759Z",
          "shell.execute_reply": "2022-02-17T23:24:46.658834Z"
        },
        "trusted": true
      },
      "execution_count": null,
      "outputs": []
    },
    {
      "cell_type": "code",
      "source": [
        "losses = {\n",
        "    'train' : [],\n",
        "    'val' : [] \n",
        "}\n",
        "\n",
        "accuracies = {\n",
        "    'train' : [],\n",
        "    'val' : [] \n",
        "}"
      ],
      "metadata": {
        "id": "BHc6rYOzhZC1",
        "execution": {
          "iopub.status.busy": "2022-02-17T23:24:46.660739Z",
          "iopub.execute_input": "2022-02-17T23:24:46.661065Z",
          "iopub.status.idle": "2022-02-17T23:24:46.668657Z",
          "shell.execute_reply.started": "2022-02-17T23:24:46.661029Z",
          "shell.execute_reply": "2022-02-17T23:24:46.667841Z"
        },
        "trusted": true
      },
      "execution_count": null,
      "outputs": []
    },
    {
      "cell_type": "code",
      "source": [
        "import shutil\n",
        "\n",
        "def save_checkpoint(path , state, filename):\n",
        "    torch.save(state, filename)\n",
        "    #shutil.copyfile(path, filename)"
      ],
      "metadata": {
        "id": "zs1QWOFdi6f_",
        "execution": {
          "iopub.status.busy": "2022-02-17T23:24:46.670105Z",
          "iopub.execute_input": "2022-02-17T23:24:46.670376Z",
          "iopub.status.idle": "2022-02-17T23:24:46.676977Z",
          "shell.execute_reply.started": "2022-02-17T23:24:46.670342Z",
          "shell.execute_reply": "2022-02-17T23:24:46.676164Z"
        },
        "trusted": true
      },
      "execution_count": null,
      "outputs": []
    },
    {
      "cell_type": "code",
      "source": [
        "!ln -sf /opt/bin/nvidia-smi /usr/bin/nvidia-smi\n",
        "!pip install gputil\n",
        "!pip install psutil\n",
        "!pip install humanize\n",
        "import psutil\n",
        "import humanize\n",
        "import os\n",
        "import GPUtil as GPU\n"
      ],
      "metadata": {
        "id": "6Mmrsxze1c5g",
        "execution": {
          "iopub.status.busy": "2022-02-17T22:17:09.669357Z",
          "iopub.execute_input": "2022-02-17T22:17:09.669631Z",
          "iopub.status.idle": "2022-02-17T22:17:34.900507Z",
          "shell.execute_reply.started": "2022-02-17T22:17:09.669596Z",
          "shell.execute_reply": "2022-02-17T22:17:34.899674Z"
        },
        "trusted": true
      },
      "execution_count": null,
      "outputs": []
    },
    {
      "cell_type": "code",
      "source": [
        "GPUs = GPU.getGPUs()\n",
        "gpu = GPUs[0]\n",
        "def printm():\n",
        " process = psutil.Process(os.getpid())\n",
        " print(\"Gen RAM Free: \" + humanize.naturalsize( psutil.virtual_memory().available ), \n",
        "       \" | Proc size: \" + humanize.naturalsize( process.memory_info().rss))\n",
        " print(\"GPU RAM Free: {0:.0f}MB | Used: {1:.0f}MB | Util {2:3.0f}% | Total {3:.0f}MB\"\n",
        "        .format(gpu.memoryFree, gpu.memoryUsed, gpu.memoryUtil*100, gpu.memoryTotal))\n",
        "printm()"
      ],
      "metadata": {
        "id": "3OKnWEMq4-4C",
        "outputId": "29c69438-028e-4292-8f19-9d6ed8644eaf",
        "execution": {
          "iopub.status.busy": "2022-02-17T22:17:34.902187Z",
          "iopub.execute_input": "2022-02-17T22:17:34.902448Z",
          "iopub.status.idle": "2022-02-17T22:17:35.008064Z",
          "shell.execute_reply.started": "2022-02-17T22:17:34.902413Z",
          "shell.execute_reply": "2022-02-17T22:17:35.007239Z"
        },
        "trusted": true,
        "colab": {
          "base_uri": "https://localhost:8080/"
        }
      },
      "execution_count": null,
      "outputs": [
        {
          "output_type": "stream",
          "name": "stdout",
          "text": [
            "Gen RAM Free: 8.6 GB  | Proc size: 6.8 GB\n",
            "GPU RAM Free: 9317MB | Used: 2124MB | Util  19% | Total 11441MB\n"
          ]
        }
      ]
    },
    {
      "cell_type": "code",
      "source": [
        "# Initialize losses and loss histories\n",
        "train_loss = 0.0\n",
        "val_loss = 0.0\n",
        "best_valid_loss = float('Inf')\n",
        "train_acc = 0.0\n",
        "val_acc = 0.0\n",
        "step = 0\n",
        "\n",
        "model.train()\n",
        "\n",
        "# Train loop\n",
        "for epoch in range(EPOCHS):\n",
        "    for j,train_batch in enumerate(tqdm(train_loader)):\n",
        "        train_mask = train_batch['attention_mask'].to(device)\n",
        "        train_input = train_batch['input_ids'].to(device)\n",
        "        train_targets = train_batch['target'].to(device)\n",
        "\n",
        "        train_y_pred = model(input_ids=train_input,  \n",
        "                        attention_mask=train_mask)\n",
        "        loss = criterion(train_y_pred, train_targets)\n",
        "        \n",
        "        loss.backward()\n",
        "\n",
        "        optimizer.step()    \n",
        "            \n",
        "        optimizer.zero_grad()\n",
        "        \n",
        "        # Update train loss and global step\n",
        "        train_loss += loss.item()\n",
        "        train_acc += multi_acc(train_y_pred , train_targets)\n",
        "        step += 1\n",
        "\n",
        "        # Validation loop. Save progress and evaluate model performance.\n",
        "\n",
        "        if (step % EVAL_BATCH) == 0:       \n",
        "          with torch.no_grad():     \n",
        "              model.eval()               \n",
        "              for i,val_batch in enumerate(dev_loader):\n",
        "                  val_mask = val_batch['attention_mask'].to(device)\n",
        "                  val_input = val_batch['input_ids'].to(device)\n",
        "                  val_targets = val_batch['target'].to(device)\n",
        "\n",
        "\n",
        "                  val_y_pred = model(input_ids=val_input,  \n",
        "                                attention_mask=val_mask)\n",
        "\n",
        "                  \n",
        "                  loss = criterion(val_y_pred, val_targets)\n",
        "                  \n",
        "                  val_loss += loss.item()\n",
        "                  val_acc += multi_acc(val_y_pred , val_targets)\n",
        "              # Store train and validation loss history\n",
        "              train_loss /= step\n",
        "              val_loss /=  len(dev_loader)  \n",
        "              train_acc /= step\n",
        "              val_acc /= len(dev_loader)\n",
        "              losses['train'].append(train_loss)\n",
        "              losses['val'].append(val_loss)\n",
        "              accuracies['train'].append(train_acc)\n",
        "              accuracies['val'].append(val_acc)\n",
        "\n",
        "              print('BATCH [{}/{}]  | Train Loss: {:.4f}, Valid Loss: {:.4f} , Train Acc: {:4f}, Val Acc: {:4f}'\n",
        "                    .format(j + 1, len(train_loader),\n",
        "                            train_loss, val_loss , train_acc , val_acc))\n",
        "              \n",
        "              # checkpoint\n",
        "              \n",
        "              if best_valid_loss > val_loss:\n",
        "                  best_valid_loss = val_loss\n",
        "                  save_checkpoint(\"/\" +output_path ,\n",
        "                      {\n",
        "                    'epoch': epoch + 1,\n",
        "                    'state_dict': model.state_dict(),\n",
        "                    'best_prec1': val_acc,\n",
        "                    'optimizer' : optimizer.state_dict(),\n",
        "                    }, 'finetuned_model.pt')\n",
        "\n",
        "              train_loss = 0.0                \n",
        "              val_loss = 0.0\n",
        "              step = 0\n",
        "              model.train()\n",
        "\n",
        "print('Training done!')"
      ],
      "metadata": {
        "id": "wEjj9WTRpCnI",
        "outputId": "7dbd9a07-7c8e-4371-d24a-f5ea90559e40",
        "execution": {
          "iopub.status.busy": "2022-02-17T23:24:46.678583Z",
          "iopub.execute_input": "2022-02-17T23:24:46.678836Z",
          "iopub.status.idle": "2022-02-18T00:03:12.308850Z",
          "shell.execute_reply.started": "2022-02-17T23:24:46.678804Z",
          "shell.execute_reply": "2022-02-18T00:03:12.308127Z"
        },
        "trusted": true,
        "colab": {
          "base_uri": "https://localhost:8080/"
        }
      },
      "execution_count": null,
      "outputs": [
        {
          "output_type": "stream",
          "name": "stderr",
          "text": [
            " 25%|██▍       | 1071/4292 [29:40<1:28:37,  1.65s/it]"
          ]
        },
        {
          "output_type": "stream",
          "name": "stdout",
          "text": [
            "BATCH [1072/4292]  | Train Loss: 2.3809, Valid Loss: 1.8529 , Train Acc: 75.664642, Val Acc: 99.602058\n"
          ]
        },
        {
          "output_type": "stream",
          "name": "stderr",
          "text": [
            " 50%|████▉     | 2143/4292 [1:05:00<59:56,  1.67s/it]"
          ]
        },
        {
          "output_type": "stream",
          "name": "stdout",
          "text": [
            "BATCH [2144/4292]  | Train Loss: 1.6851, Valid Loss: 1.5819 , Train Acc: 99.137741, Val Acc: 99.882217\n"
          ]
        },
        {
          "output_type": "stream",
          "name": "stderr",
          "text": [
            " 75%|███████▍  | 3215/4292 [1:40:12<30:01,  1.67s/it]"
          ]
        },
        {
          "output_type": "stream",
          "name": "stdout",
          "text": [
            "BATCH [3216/4292]  | Train Loss: 1.5492, Valid Loss: 1.5199 , Train Acc: 99.637726, Val Acc: 99.952965\n"
          ]
        },
        {
          "output_type": "stream",
          "name": "stderr",
          "text": [
            "100%|█████████▉| 4287/4292 [2:15:26<00:08,  1.67s/it]"
          ]
        },
        {
          "output_type": "stream",
          "name": "stdout",
          "text": [
            "BATCH [4288/4292]  | Train Loss: 1.5094, Valid Loss: 1.4975 , Train Acc: 99.813095, Val Acc: 100.046730\n"
          ]
        },
        {
          "output_type": "stream",
          "name": "stderr",
          "text": [
            "100%|██████████| 4292/4292 [2:20:55<00:00,  1.97s/it]"
          ]
        },
        {
          "output_type": "stream",
          "name": "stdout",
          "text": [
            "Training done!\n"
          ]
        },
        {
          "output_type": "stream",
          "name": "stderr",
          "text": [
            "\n"
          ]
        }
      ]
    },
    {
      "cell_type": "code",
      "source": [
        "import seaborn as sns\n",
        "import matplotlib.pyplot as plt\n",
        "sns.set_style(\"darkgrid\")\n",
        "sns.set(font_scale=1.5)\n",
        "plt.rcParams[\"figure.figsize\"] = (12,6)\n",
        "\n",
        "# Plot the learning curve.\n",
        "plt.plot(np.array([1, 2, 3, 4])*EVAL_BATCH , losses[\"train\"], '-o', label=\"Training Loss\" , color = \"lightskyblue\")\n",
        "plt.plot(np.array([1, 2, 3, 4])*EVAL_BATCH , losses[\"val\"], '-o', label=\"Validation Loss\" , color = \"indigo\")\n",
        "\n",
        "# Label the plot.\n",
        "plt.title(\"Training & Validation Loss\")\n",
        "plt.xlabel(\"Batches\")\n",
        "plt.ylabel(\"Loss\")\n",
        "plt.legend()\n",
        "\n",
        "plt.show()"
      ],
      "metadata": {
        "id": "IGKBe8LP2rYq",
        "execution": {
          "iopub.status.busy": "2022-02-18T00:05:34.452351Z",
          "iopub.execute_input": "2022-02-18T00:05:34.453102Z",
          "iopub.status.idle": "2022-02-18T00:05:34.715840Z",
          "shell.execute_reply.started": "2022-02-18T00:05:34.453059Z",
          "shell.execute_reply": "2022-02-18T00:05:34.715227Z"
        },
        "trusted": true,
        "colab": {
          "base_uri": "https://localhost:8080/",
          "height": 427
        },
        "outputId": "e9fbd847-ac53-4fb3-cd14-5e02b1fd7ae3"
      },
      "execution_count": null,
      "outputs": [
        {
          "output_type": "display_data",
          "data": {
            "image/png": "[encoded data removed]",
            "text/plain": [
              "<Figure size 864x432 with 1 Axes>"
            ]
          },
          "metadata": {}
        }
      ]
    },
    {
      "cell_type": "code",
      "source": [
        "sns.set(font_scale=1.5)\n",
        "plt.rcParams[\"figure.figsize\"] = (12,6)\n",
        "\n",
        "# Plot the learning curve.\n",
        "plt.plot(np.array([1, 2, 3, 4])*EVAL_BATCH , accuracies[\"train\"], '-o', label=\"Training Accuracy\" , color = \"lightskyblue\")\n",
        "plt.plot(np.array([1, 2, 3, 4])*EVAL_BATCH , accuracies[\"val\"], '-o', label=\"Validation Acuracy\" , color = \"indigo\")\n",
        "\n",
        "# Label the plot.\n",
        "plt.title(\"Training & Validation Accuracies\")\n",
        "plt.xlabel(\"Batches\")\n",
        "plt.ylabel(\"Accuracy\")\n",
        "plt.legend()\n",
        "\n",
        "\n",
        "plt.show()"
      ],
      "metadata": {
        "id": "Zd6mDwtf8J2l",
        "execution": {
          "iopub.status.busy": "2022-02-18T00:11:11.117218Z",
          "iopub.execute_input": "2022-02-18T00:11:11.117783Z",
          "iopub.status.idle": "2022-02-18T00:11:11.338826Z",
          "shell.execute_reply.started": "2022-02-18T00:11:11.117745Z",
          "shell.execute_reply": "2022-02-18T00:11:11.338170Z"
        },
        "trusted": true,
        "colab": {
          "base_uri": "https://localhost:8080/",
          "height": 427
        },
        "outputId": "cba59d93-6a31-450d-f447-40c85c73c7c5"
      },
      "execution_count": null,
      "outputs": [
        {
          "output_type": "display_data",
          "data": {
            "image/png": "[encoded data removed]",
            "text/plain": [
              "<Figure size 864x432 with 1 Axes>"
            ]
          },
          "metadata": {}
        }
      ]
    },
    {
      "cell_type": "code",
      "source": [
        "test_loss = 0.0\n",
        "test_acc = 0.0\n",
        "with torch.no_grad():   \n",
        "    print(' Starting Evaluation on Test Set ')  \n",
        "    model.eval()               \n",
        "    for i,test_batch in enumerate(tqdm(test_loader)):\n",
        "        test_mask = test_batch['attention_mask'].to(device)\n",
        "        test_input = test_batch['input_ids'].to(device)\n",
        "        test_targets = test_batch['target'].to(device)\n",
        "\n",
        "\n",
        "        test_y_pred = model(input_ids=test_input,  \n",
        "                      attention_mask=test_mask)\n",
        "\n",
        "        \n",
        "        loss = criterion(test_y_pred, test_targets)\n",
        "        \n",
        "        test_loss += loss.item()\n",
        "        test_acc += multi_acc(test_y_pred , test_targets)\n",
        "        torch.cuda.empty_cache()\n",
        "    # Store train and validation loss history\n",
        "    test_loss /= len(test_loader)  \n",
        "    test_acc /= len(test_loader)\n",
        "    \n",
        "print('Test Loss: {:.4f} , Test Accuracy: {:4f}'\n",
        "    .format(test_loss , test_acc))"
      ],
      "metadata": {
        "id": "Yk1zG8u16BA5",
        "execution": {
          "iopub.status.busy": "2022-02-18T00:03:29.884418Z",
          "iopub.execute_input": "2022-02-18T00:03:29.884895Z",
          "iopub.status.idle": "2022-02-18T00:04:54.671700Z",
          "shell.execute_reply.started": "2022-02-18T00:03:29.884857Z",
          "shell.execute_reply": "2022-02-18T00:04:54.671013Z"
        },
        "trusted": true,
        "colab": {
          "base_uri": "https://localhost:8080/"
        },
        "outputId": "d3cb3cc3-a278-4125-dd71-1b4399b388dc"
      },
      "execution_count": null,
      "outputs": [
        {
          "output_type": "stream",
          "name": "stdout",
          "text": [
            " Starting Evaluation on Test Set \n"
          ]
        },
        {
          "output_type": "stream",
          "name": "stderr",
          "text": [
            "100%|██████████| 534/534 [05:09<00:00,  1.72it/s]"
          ]
        },
        {
          "output_type": "stream",
          "name": "stdout",
          "text": [
            "Test Loss: 1.4969 , Test Accuracy: 99.882957\n"
          ]
        },
        {
          "output_type": "stream",
          "name": "stderr",
          "text": [
            "\n"
          ]
        }
      ]
    },
    {
      "cell_type": "markdown",
      "source": [
        "# Results Analysis\n",
        "\n",
        "\n",
        "\n",
        "*   CNN-based model is able to achieve 97% accuracy on the held-out set, thus proving that a convolutional model is able to capture the dependencies and underlying patterns in the protein sequence. Using an embedding layer and batch normalization provide the right inductive bias for learning representations of the protein sequences. Also, running the model on a GPU allows for an extremely fast learning with the subset of the data that I was using.\n",
        "*   The fine-tuned transformer model is able to achieve 99% accuracy on the test set, showcasing the power of transfer learning for downstream tasks. The main drawback would be both training time and inference time, which would require a lot more computational power. This implementation allows further interpretability of the model by visualizing attention weights in the transformer architecture.\n",
        "\n",
        "\n",
        "*   It is also remarkable how both models are robust with respect to short sequences and truncation set up to only 128 characters as well. \n",
        "\n",
        "\n",
        "\n",
        "\n",
        "\n",
        "\n",
        "\n",
        "---\n",
        "\n",
        "\n",
        "Further work:\n",
        "\n",
        "\n",
        "\n",
        "*   Test the same models trained on the whole dataset, given access to more computational power.\n",
        "*   Another interesting point would be related to few-shot learning. Siamese networks have shown to perform well without many labelled examples. More precisely, it would be interesting to leverage the same transformer architecture to obtain the learned representation and compute similarity metrics among samples to perform the classification. This type of siamese transformer architectures have been shown to perform well in NLP in the work by Shuai Gao *et al.* (2021) [TBSN: Sparse-Transformer Based Siamese Network for Few-Shot Action Recognition](https://ieeexplore.ieee.org/document/9441568).\n",
        "\n"
      ],
      "metadata": {
        "id": "5xGJ9OwcoQqT"
      }
    }
  ]
}